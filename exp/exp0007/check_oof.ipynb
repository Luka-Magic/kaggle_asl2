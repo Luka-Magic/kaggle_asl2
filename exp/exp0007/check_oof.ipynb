{
 "cells": [
  {
   "cell_type": "code",
   "execution_count": 13,
   "metadata": {},
   "outputs": [],
   "source": [
    "from pathlib import Path\n",
    "import pandas as pd\n",
    "import numpy as np"
   ]
  },
  {
   "cell_type": "code",
   "execution_count": 3,
   "metadata": {},
   "outputs": [],
   "source": [
    "FOLD = 0"
   ]
  },
  {
   "cell_type": "code",
   "execution_count": 4,
   "metadata": {},
   "outputs": [],
   "source": [
    "EXP_PATH = Path.cwd()\n",
    "ROOT_DIR = EXP_PATH.parents[2]\n",
    "exp_name = EXP_PATH.name\n",
    "RAW_DATA_DIR = ROOT_DIR / 'data' / 'original_data'\n",
    "DATA_DIR = ROOT_DIR / 'data' / 'kaggle_dataset' / 'irohith_tfrecords'\n",
    "SAVE_DIR = ROOT_DIR / 'outputs' / exp_name / f'fold{FOLD}'\n",
    "SAVE_DIR.mkdir(parents=True, exist_ok=True)"
   ]
  },
  {
   "cell_type": "code",
   "execution_count": 8,
   "metadata": {},
   "outputs": [],
   "source": [
    "oof_df = pd.read_csv(SAVE_DIR / 'oof_df.csv')"
   ]
  },
  {
   "cell_type": "code",
   "execution_count": 24,
   "metadata": {},
   "outputs": [
    {
     "data": {
      "text/plain": [
       "<Axes: ylabel='Frequency'>"
      ]
     },
     "execution_count": 24,
     "metadata": {},
     "output_type": "execute_result"
    },
    {
     "data": {
      "image/png": "[encoded data removed]",
      "text/plain": [
       "<Figure size 1500x500 with 1 Axes>"
      ]
     },
     "metadata": {},
     "output_type": "display_data"
    }
   ],
   "source": [
    "oof_df['score'].plot(kind='hist', bins=np.linspace(0.65, 0.99, 50), figsize=(15, 5))"
   ]
  },
  {
   "cell_type": "code",
   "execution_count": null,
   "metadata": {},
   "outputs": [],
   "source": [
    "oof_df"
   ]
  },
  {
   "cell_type": "code",
   "execution_count": 28,
   "metadata": {},
   "outputs": [
    {
     "data": {
      "text/html": [
       "<div>\n",
       "<style scoped>\n",
       "    .dataframe tbody tr th:only-of-type {\n",
       "        vertical-align: middle;\n",
       "    }\n",
       "\n",
       "    .dataframe tbody tr th {\n",
       "        vertical-align: top;\n",
       "    }\n",
       "\n",
       "    .dataframe thead th {\n",
       "        text-align: right;\n",
       "    }\n",
       "</style>\n",
       "<table border=\"1\" class=\"dataframe\">\n",
       "  <thead>\n",
       "    <tr style=\"text-align: right;\">\n",
       "      <th></th>\n",
       "      <th>sequence_id</th>\n",
       "      <th>phrase</th>\n",
       "      <th>pred</th>\n",
       "      <th>score</th>\n",
       "      <th>fold</th>\n",
       "    </tr>\n",
       "  </thead>\n",
       "  <tbody>\n",
       "    <tr>\n",
       "      <th>51</th>\n",
       "      <td>1496536743</td>\n",
       "      <td>4043 fk gold creek</td>\n",
       "      <td>4043f kogralk creek</td>\n",
       "      <td>0.666667</td>\n",
       "      <td>0</td>\n",
       "    </tr>\n",
       "    <tr>\n",
       "      <th>59</th>\n",
       "      <td>1496656323</td>\n",
       "      <td>45 ferdinand plaza</td>\n",
       "      <td>4 eldiand pla</td>\n",
       "      <td>0.666667</td>\n",
       "      <td>0</td>\n",
       "    </tr>\n",
       "    <tr>\n",
       "      <th>87</th>\n",
       "      <td>1497449233</td>\n",
       "      <td>977-842-9470</td>\n",
       "      <td>8787-84-970</td>\n",
       "      <td>0.666667</td>\n",
       "      <td>0</td>\n",
       "    </tr>\n",
       "    <tr>\n",
       "      <th>155</th>\n",
       "      <td>1499627724</td>\n",
       "      <td>lazaro portillo</td>\n",
       "      <td>la portilo</td>\n",
       "      <td>0.666667</td>\n",
       "      <td>0</td>\n",
       "    </tr>\n",
       "    <tr>\n",
       "      <th>225</th>\n",
       "      <td>1501935913</td>\n",
       "      <td>+229-31-4768-99-06</td>\n",
       "      <td>+220-2-31-478-99-</td>\n",
       "      <td>0.666667</td>\n",
       "      <td>0</td>\n",
       "    </tr>\n",
       "    <tr>\n",
       "      <th>...</th>\n",
       "      <td>...</td>\n",
       "      <td>...</td>\n",
       "      <td>...</td>\n",
       "      <td>...</td>\n",
       "      <td>...</td>\n",
       "    </tr>\n",
       "    <tr>\n",
       "      <th>16720</th>\n",
       "      <td>1966479255</td>\n",
       "      <td>chelsea summers</td>\n",
       "      <td>chelesea seume</td>\n",
       "      <td>0.666667</td>\n",
       "      <td>0</td>\n",
       "    </tr>\n",
       "    <tr>\n",
       "      <th>16724</th>\n",
       "      <td>1966576323</td>\n",
       "      <td>+591-903-780-3398-834</td>\n",
       "      <td>+59-903-780-396</td>\n",
       "      <td>0.666667</td>\n",
       "      <td>0</td>\n",
       "    </tr>\n",
       "    <tr>\n",
       "      <th>16741</th>\n",
       "      <td>1967171983</td>\n",
       "      <td>234-238-0884</td>\n",
       "      <td>234-2308</td>\n",
       "      <td>0.666667</td>\n",
       "      <td>0</td>\n",
       "    </tr>\n",
       "    <tr>\n",
       "      <th>16826</th>\n",
       "      <td>1969436894</td>\n",
       "      <td>www.carninyprimary.co.uk</td>\n",
       "      <td>www.cuinyrinmdryco.ut</td>\n",
       "      <td>0.666667</td>\n",
       "      <td>0</td>\n",
       "    </tr>\n",
       "    <tr>\n",
       "      <th>16938</th>\n",
       "      <td>1972931566</td>\n",
       "      <td>790-225-6971</td>\n",
       "      <td>+79022-56971</td>\n",
       "      <td>0.666667</td>\n",
       "      <td>0</td>\n",
       "    </tr>\n",
       "  </tbody>\n",
       "</table>\n",
       "<p>374 rows × 5 columns</p>\n",
       "</div>"
      ],
      "text/plain": [
       "       sequence_id                    phrase                   pred     score  \\\n",
       "51      1496536743        4043 fk gold creek    4043f kogralk creek  0.666667   \n",
       "59      1496656323        45 ferdinand plaza          4 eldiand pla  0.666667   \n",
       "87      1497449233              977-842-9470            8787-84-970  0.666667   \n",
       "155     1499627724           lazaro portillo             la portilo  0.666667   \n",
       "225     1501935913        +229-31-4768-99-06      +220-2-31-478-99-  0.666667   \n",
       "...            ...                       ...                    ...       ...   \n",
       "16720   1966479255           chelsea summers         chelesea seume  0.666667   \n",
       "16724   1966576323     +591-903-780-3398-834        +59-903-780-396  0.666667   \n",
       "16741   1967171983              234-238-0884               234-2308  0.666667   \n",
       "16826   1969436894  www.carninyprimary.co.uk  www.cuinyrinmdryco.ut  0.666667   \n",
       "16938   1972931566              790-225-6971           +79022-56971  0.666667   \n",
       "\n",
       "       fold  \n",
       "51        0  \n",
       "59        0  \n",
       "87        0  \n",
       "155       0  \n",
       "225       0  \n",
       "...     ...  \n",
       "16720     0  \n",
       "16724     0  \n",
       "16741     0  \n",
       "16826     0  \n",
       "16938     0  \n",
       "\n",
       "[374 rows x 5 columns]"
      ]
     },
     "execution_count": 28,
     "metadata": {},
     "output_type": "execute_result"
    }
   ],
   "source": [
    "oof_df.query('0.66 < score < 0.67')"
   ]
  },
  {
   "cell_type": "code",
   "execution_count": null,
   "metadata": {},
   "outputs": [],
   "source": []
  }
 ],
 "metadata": {
  "kernelspec": {
   "display_name": "asl2-dTG6GXgB",
   "language": "python",
   "name": "python3"
  },
  "language_info": {
   "codemirror_mode": {
    "name": "ipython",
    "version": 3
   },
   "file_extension": ".py",
   "mimetype": "text/x-python",
   "name": "python",
   "nbconvert_exporter": "python",
   "pygments_lexer": "ipython3",
   "version": "3.11.4"
  },
  "orig_nbformat": 4
 },
 "nbformat": 4,
 "nbformat_minor": 2
}
