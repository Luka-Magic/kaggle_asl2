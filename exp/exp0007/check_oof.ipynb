{
 "cells": [
  {
   "cell_type": "code",
   "execution_count": 1,
   "metadata": {},
   "outputs": [],
   "source": [
    "from pathlib import Path\n",
    "import pandas as pd\n",
    "import numpy as np"
   ]
  },
  {
   "cell_type": "code",
   "execution_count": 4,
   "metadata": {},
   "outputs": [],
   "source": [
    "FOLD = 1"
   ]
  },
  {
   "cell_type": "code",
   "execution_count": 5,
   "metadata": {},
   "outputs": [],
   "source": [
    "EXP_PATH = Path.cwd()\n",
    "ROOT_DIR = EXP_PATH.parents[2]\n",
    "exp_name = EXP_PATH.name\n",
    "RAW_DATA_DIR = ROOT_DIR / 'data' / 'original_data'\n",
    "DATA_DIR = ROOT_DIR / 'data' / 'kaggle_dataset' / 'irohith_tfrecords'\n",
    "SAVE_DIR = ROOT_DIR / 'outputs' / exp_name / f'fold{FOLD}'\n",
    "SAVE_DIR.mkdir(parents=True, exist_ok=True)"
   ]
  },
  {
   "cell_type": "code",
   "execution_count": 6,
   "metadata": {},
   "outputs": [],
   "source": [
    "valid_result_df = pd.read_csv(SAVE_DIR / 'valid_result.csv')"
   ]
  },
  {
   "cell_type": "code",
   "execution_count": 21,
   "metadata": {},
   "outputs": [],
   "source": [
    "valid_result_df = valid_result_df.fillna('').astype(str)"
   ]
  },
  {
   "cell_type": "code",
   "execution_count": 22,
   "metadata": {},
   "outputs": [],
   "source": [
    "from Levenshtein import distance as Lev_distance\n",
    "def calculate_N_D(s1, s2):\n",
    "    l = len(s1)\n",
    "    lvd = Lev_distance(s1, s2)\n",
    "    return lvd, l\n",
    "    \n",
    "global_N, global_D = 0, 0\n",
    "for target_strings, predict_strings in valid_result_df[['target', 'pred_epoch5']].values:\n",
    "    values = [calculate_N_D(target, predict) for target, predict in zip(target_strings, predict_strings)]\n",
    "    global_D += np.sum([x[0] for x in values])\n",
    "    global_N += np.sum([x[1] for x in values])\n",
    "\n",
    "metric_value = np.clip((global_N - global_D) / global_N, a_min=0, a_max=1)"
   ]
  },
  {
   "cell_type": "code",
   "execution_count": 23,
   "metadata": {},
   "outputs": [
    {
     "data": {
      "text/plain": [
       "0.3132487642017859"
      ]
     },
     "execution_count": 23,
     "metadata": {},
     "output_type": "execute_result"
    }
   ],
   "source": [
    "metric_value"
   ]
  }
 ],
 "metadata": {
  "kernelspec": {
   "display_name": "asl2-dTG6GXgB",
   "language": "python",
   "name": "python3"
  },
  "language_info": {
   "codemirror_mode": {
    "name": "ipython",
    "version": 3
   },
   "file_extension": ".py",
   "mimetype": "text/x-python",
   "name": "python",
   "nbconvert_exporter": "python",
   "pygments_lexer": "ipython3",
   "version": "3.11.4"
  },
  "orig_nbformat": 4
 },
 "nbformat": 4,
 "nbformat_minor": 2
}
