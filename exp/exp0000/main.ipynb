{
 "cells": [
  {
   "cell_type": "code",
   "execution_count": 6,
   "metadata": {},
   "outputs": [],
   "source": [
    "dic = {'a': 3, 'b': 2}"
   ]
  },
  {
   "cell_type": "code",
   "execution_count": 8,
   "metadata": {},
   "outputs": [],
   "source": [
    "li = ['a', 'a', 'a', 'b', 'b']"
   ]
  },
  {
   "cell_type": "code",
   "execution_count": 9,
   "metadata": {},
   "outputs": [],
   "source": [
    "# convert element of li by dic\n",
    "li = [dic[i] for i in li]"
   ]
  },
  {
   "cell_type": "code",
   "execution_count": 10,
   "metadata": {},
   "outputs": [],
   "source": [
    "import numpy as np"
   ]
  },
  {
   "cell_type": "code",
   "execution_count": 12,
   "metadata": {},
   "outputs": [],
   "source": [
    "hand = np.random.rand(12, 543, 2)"
   ]
  },
  {
   "cell_type": "code",
   "execution_count": 13,
   "metadata": {},
   "outputs": [],
   "source": [
    "hand[5, 52, 1] = np.nan"
   ]
  },
  {
   "cell_type": "code",
   "execution_count": 16,
   "metadata": {},
   "outputs": [
    {
     "data": {
      "text/plain": [
       "array([0.50411222, 0.50209743, 0.50199629, 0.48889409, 0.48850127,\n",
       "              nan, 0.51635373, 0.49183435, 0.50153748, 0.48732868,\n",
       "       0.50116818, 0.49980379])"
      ]
     },
     "execution_count": 16,
     "metadata": {},
     "output_type": "execute_result"
    }
   ],
   "source": []
  },
  {
   "cell_type": "code",
   "execution_count": 17,
   "metadata": {},
   "outputs": [],
   "source": [
    "# delete nan frame\n",
    "not_nan_frame = ~np.isnan(np.mean(hand, axis=(1, 2)))\n",
    "hand = hand[not_nan_frame]"
   ]
  },
  {
   "cell_type": "code",
   "execution_count": 19,
   "metadata": {},
   "outputs": [
    {
     "data": {
      "text/plain": [
       "(11, 543, 2)"
      ]
     },
     "execution_count": 19,
     "metadata": {},
     "output_type": "execute_result"
    }
   ],
   "source": [
    "hand.shape"
   ]
  },
  {
   "cell_type": "code",
   "execution_count": 1,
   "metadata": {},
   "outputs": [],
   "source": [
    "from torchinfo import summary"
   ]
  },
  {
   "cell_type": "code",
   "execution_count": 64,
   "metadata": {},
   "outputs": [],
   "source": [
    "import math\n",
    "import torch\n",
    "from torch import nn\n",
    "from torch.nn import functional as F\n",
    "\n",
    "\n",
    "class BidirectionalLSTM(nn.Module):\n",
    "\n",
    "    def __init__(self, input_size, hidden_size, output_size):\n",
    "        super(BidirectionalLSTM, self).__init__()\n",
    "        self.rnn = nn.LSTM(input_size, hidden_size,\n",
    "                           bidirectional=True, batch_first=True)\n",
    "        self.linear = nn.Linear(hidden_size * 2, output_size)\n",
    "\n",
    "    def forward(self, input):\n",
    "        \"\"\"\n",
    "        input : visual feature [batch_size x T x input_size]\n",
    "        output : contextual feature [batch_size x T x output_size]\n",
    "        \"\"\"\n",
    "        self.rnn.flatten_parameters()\n",
    "        # batch_size x T x input_size -> batch_size x T x (2*hidden_size)\n",
    "        recurrent, _ = self.rnn(input)\n",
    "        output = self.linear(recurrent)  # batch_size x T x output_size\n",
    "        return output\n",
    "\n",
    "\n",
    "class RSUnit1D(nn.Module):\n",
    "    def __init__(self, in_dim, kernel_size=3, padding=1,\n",
    "                 padding_mode='zeros', actf=torch.nn.ReLU()):\n",
    "        super(RSUnit1D, self).__init__()\n",
    "        self.layer0 = nn.Conv1d(in_dim, in_dim, kernel_size=kernel_size,\n",
    "                                padding=padding, padding_mode=padding_mode, bias=False)\n",
    "        self.bn0 = nn.BatchNorm1d(in_dim)\n",
    "        self.layer1 = nn.Conv1d(in_dim, in_dim, kernel_size=kernel_size,\n",
    "                                padding=padding, padding_mode=padding_mode, bias=False)\n",
    "        self.bn1 = nn.BatchNorm1d(in_dim)\n",
    "        self.actf = actf\n",
    "\n",
    "    def forward(self, x):\n",
    "        h = self.actf(self.bn0(self.layer0(x)))\n",
    "        h = self.bn1(self.layer1(h))\n",
    "        return x + h\n",
    "\n",
    "\n",
    "class Model(nn.Module):\n",
    "    def __init__(self, seq_len, n_features, n_class):\n",
    "        super(Model, self).__init__()\n",
    "        # self.actf = torch.nn.LeakyReLU(negative_slope=0.1)\n",
    "        self.actf = nn.ReLU()\n",
    "        self.conv1 = nn.Conv1d(n_features, 128, 3, padding=1)\n",
    "        self.bn1 = nn.BatchNorm1d(128)  # 各landmarkでmean,std=0,1にする\n",
    "        self.conv2 = RSUnit1D(128, 3, padding=1)\n",
    "        self.conv3 = RSUnit1D(128, 3, padding=1)\n",
    "        self.conv4 = RSUnit1D(128, 3, padding=1)\n",
    "        self.conv5 = nn.Conv1d(\n",
    "            128, 256, kernel_size=1, padding=0, bias=True)\n",
    "        self.sequence_models = nn.Sequential(\n",
    "            BidirectionalLSTM(256, 256, 256),\n",
    "            BidirectionalLSTM(256, 256, 256),\n",
    "        )\n",
    "        self.fc = nn.Linear(256, n_class)\n",
    "\n",
    "    def forward(self, x):\n",
    "        '''\n",
    "            input: (bs, 42, 576)\n",
    "            output: (bs, 576(seq_len), 59(n_classes))\n",
    "        '''\n",
    "        # x = self.bn0(x)\n",
    "        x = self.actf(self.bn1(self.conv1(x)))\n",
    "        x = self.conv2(x)\n",
    "        x = self.conv3(x)\n",
    "        x = self.conv4(x)\n",
    "        x = self.conv5(x)  # (bs, 256, 576)\n",
    "        x = x.permute(0, 2, 1)  # (bs, 576, 256) B T C\n",
    "        x = self.sequence_models(x)\n",
    "        x = self.fc(x)  # (bs, 576, 60)\n",
    "        return x\n"
   ]
  },
  {
   "cell_type": "code",
   "execution_count": 65,
   "metadata": {},
   "outputs": [
    {
     "data": {
      "text/plain": [
       "==========================================================================================\n",
       "Layer (type:depth-idx)                   Output Shape              Param #\n",
       "==========================================================================================\n",
       "Model                                    [1, 576, 60]              --\n",
       "├─Conv1d: 1-1                            [1, 128, 576]             16,256\n",
       "├─BatchNorm1d: 1-2                       [1, 128, 576]             256\n",
       "├─ReLU: 1-3                              [1, 128, 576]             --\n",
       "├─RSUnit1D: 1-4                          [1, 128, 576]             49,408\n",
       "│    └─Conv1d: 2-1                       [1, 128, 576]             49,152\n",
       "│    └─BatchNorm1d: 2-2                  [1, 128, 576]             256\n",
       "├─RSUnit1D: 1-8                          --                        (recursive)\n",
       "│    └─ReLU: 2-3                         [1, 128, 576]             --\n",
       "├─RSUnit1D: 1-6                          --                        (recursive)\n",
       "│    └─Conv1d: 2-4                       [1, 128, 576]             49,152\n",
       "│    └─BatchNorm1d: 2-5                  [1, 128, 576]             256\n",
       "├─RSUnit1D: 1-7                          [1, 128, 576]             49,408\n",
       "│    └─Conv1d: 2-6                       [1, 128, 576]             49,152\n",
       "│    └─BatchNorm1d: 2-7                  [1, 128, 576]             256\n",
       "├─RSUnit1D: 1-8                          --                        (recursive)\n",
       "│    └─ReLU: 2-8                         [1, 128, 576]             --\n",
       "├─RSUnit1D: 1-9                          --                        (recursive)\n",
       "│    └─Conv1d: 2-9                       [1, 128, 576]             49,152\n",
       "│    └─BatchNorm1d: 2-10                 [1, 128, 576]             256\n",
       "├─RSUnit1D: 1-10                         [1, 128, 576]             --\n",
       "│    └─Conv1d: 2-11                      [1, 128, 576]             49,152\n",
       "│    └─BatchNorm1d: 2-12                 [1, 128, 576]             256\n",
       "│    └─ReLU: 2-13                        [1, 128, 576]             --\n",
       "│    └─Conv1d: 2-14                      [1, 128, 576]             49,152\n",
       "│    └─BatchNorm1d: 2-15                 [1, 128, 576]             256\n",
       "├─Conv1d: 1-11                           [1, 256, 576]             33,024\n",
       "├─Sequential: 1-12                       [1, 576, 256]             --\n",
       "│    └─BidirectionalLSTM: 2-16           [1, 576, 256]             --\n",
       "│    │    └─LSTM: 3-1                    [1, 576, 512]             1,052,672\n",
       "│    │    └─Linear: 3-2                  [1, 576, 256]             131,328\n",
       "│    └─BidirectionalLSTM: 2-17           [1, 576, 256]             --\n",
       "│    │    └─LSTM: 3-3                    [1, 576, 512]             1,052,672\n",
       "│    │    └─Linear: 3-4                  [1, 576, 256]             131,328\n",
       "├─Linear: 1-13                           [1, 576, 60]              15,420\n",
       "==========================================================================================\n",
       "Total params: 2,828,220\n",
       "Trainable params: 2,828,220\n",
       "Non-trainable params: 0\n",
       "Total mult-adds (Units.GIGABYTES): 1.41\n",
       "==========================================================================================\n",
       "Input size (MB): 0.10\n",
       "Forward/backward pass size (MB): 16.79\n",
       "Params size (MB): 10.92\n",
       "Estimated Total Size (MB): 27.81\n",
       "=========================================================================================="
      ]
     },
     "execution_count": 65,
     "metadata": {},
     "output_type": "execute_result"
    }
   ],
   "source": [
    "model = Model(576, 42, 60)\n",
    "\n",
    "summary(\n",
    "    model,\n",
    "    input_size=((1, 42, 576))\n",
    ")"
   ]
  },
  {
   "cell_type": "code",
   "execution_count": 2,
   "metadata": {},
   "outputs": [],
   "source": [
    "import torch\n",
    "import torch.nn as nn\n",
    "import torch.nn.functional as F"
   ]
  },
  {
   "cell_type": "code",
   "execution_count": 3,
   "metadata": {},
   "outputs": [],
   "source": [
    "class Model(nn.Module):\n",
    "    def __init__(self, seq_len, n_features, n_class):\n",
    "        super(Model, self).__init__()\n",
    "        self.bn0 = nn.BatchNorm1d(n_features)\n",
    "        self.conv1 = nn.Conv1d(n_features, 128, 3, padding=1)\n",
    "        self.bn1 = nn.BatchNorm1d(128)\n",
    "        self.conv2 = nn.Conv1d(128, 128, 3, padding=1)\n",
    "        self.bn2 = nn.BatchNorm1d(128)\n",
    "        self.fc = nn.Linear(128, n_class)\n",
    "    \n",
    "    def forward(self, x):\n",
    "        '''\n",
    "            input: (bs, 42, 576)\n",
    "            output: (bs, 576(seq_len), 59(n_classes))\n",
    "        '''\n",
    "        # x = self.bn0(x)\n",
    "        x = F.relu(self.bn1(self.conv1(x)))\n",
    "        x = F.relu(self.bn2(self.conv2(x))) # (bs, 42, 576)\n",
    "        x = x.permute(0, 2, 1) # (bs, 576, 42)\n",
    "        x = self.fc(x) # (bs, 42, 59)\n",
    "        return x"
   ]
  },
  {
   "cell_type": "code",
   "execution_count": 4,
   "metadata": {},
   "outputs": [],
   "source": [
    "model = Model(574, 42, 59)"
   ]
  },
  {
   "cell_type": "code",
   "execution_count": 5,
   "metadata": {},
   "outputs": [
    {
     "data": {
      "text/plain": [
       "==========================================================================================\n",
       "Layer (type:depth-idx)                   Output Shape              Param #\n",
       "==========================================================================================\n",
       "Model                                    [1, 574, 59]              84\n",
       "├─Conv1d: 1-1                            [1, 128, 574]             16,256\n",
       "├─BatchNorm1d: 1-2                       [1, 128, 574]             256\n",
       "├─Conv1d: 1-3                            [1, 128, 574]             49,280\n",
       "├─BatchNorm1d: 1-4                       [1, 128, 574]             256\n",
       "├─Linear: 1-5                            [1, 574, 59]              7,611\n",
       "==========================================================================================\n",
       "Total params: 73,743\n",
       "Trainable params: 73,743\n",
       "Non-trainable params: 0\n",
       "Total mult-adds (Units.MEGABYTES): 37.63\n",
       "==========================================================================================\n",
       "Input size (MB): 0.10\n",
       "Forward/backward pass size (MB): 2.62\n",
       "Params size (MB): 0.29\n",
       "Estimated Total Size (MB): 3.01\n",
       "=========================================================================================="
      ]
     },
     "execution_count": 5,
     "metadata": {},
     "output_type": "execute_result"
    }
   ],
   "source": [
    "summary(model, input_size=(1, 42, 574))"
   ]
  },
  {
   "cell_type": "code",
   "execution_count": 71,
   "metadata": {},
   "outputs": [],
   "source": [
    "bn = nn.BatchNorm1d(42)\n",
    "x = torch.randn(1, 42, 574)"
   ]
  },
  {
   "cell_type": "code",
   "execution_count": 72,
   "metadata": {},
   "outputs": [],
   "source": [
    "out = bn(x)"
   ]
  },
  {
   "cell_type": "code",
   "execution_count": 76,
   "metadata": {},
   "outputs": [
    {
     "data": {
      "text/plain": [
       "torch.Size([1, 42, 574])"
      ]
     },
     "execution_count": 76,
     "metadata": {},
     "output_type": "execute_result"
    }
   ],
   "source": [
    "out.shape"
   ]
  },
  {
   "cell_type": "code",
   "execution_count": 77,
   "metadata": {},
   "outputs": [
    {
     "data": {
      "text/plain": [
       "tensor(1.0009, grad_fn=<StdBackward0>)"
      ]
     },
     "execution_count": 77,
     "metadata": {},
     "output_type": "execute_result"
    }
   ],
   "source": [
    "out[0, 1, :].std()"
   ]
  },
  {
   "cell_type": "code",
   "execution_count": 32,
   "metadata": {},
   "outputs": [
    {
     "data": {
      "text/plain": [
       "tensor(-0.0134, grad_fn=<MeanBackward0>)"
      ]
     },
     "execution_count": 32,
     "metadata": {},
     "output_type": "execute_result"
    }
   ],
   "source": [
    "out[0, 2, :].mean()"
   ]
  },
  {
   "cell_type": "code",
   "execution_count": 33,
   "metadata": {},
   "outputs": [
    {
     "data": {
      "text/plain": [
       "torch.Size([1, 12, 1086])"
      ]
     },
     "execution_count": 33,
     "metadata": {},
     "output_type": "execute_result"
    }
   ],
   "source": [
    "out.shape"
   ]
  },
  {
   "cell_type": "code",
   "execution_count": 16,
   "metadata": {},
   "outputs": [],
   "source": [
    "from Levenshtein import distance \n",
    "import numpy as np"
   ]
  },
  {
   "cell_type": "code",
   "execution_count": 10,
   "metadata": {},
   "outputs": [
    {
     "data": {
      "text/plain": [
       "1"
      ]
     },
     "execution_count": 10,
     "metadata": {},
     "output_type": "execute_result"
    }
   ],
   "source": [
    "distance('aab', 'aa')"
   ]
  },
  {
   "cell_type": "code",
   "execution_count": 13,
   "metadata": {},
   "outputs": [
    {
     "ename": "TypeError",
     "evalue": "unhashable type: 'numpy.ndarray'",
     "output_type": "error",
     "traceback": [
      "\u001b[0;31m---------------------------------------------------------------------------\u001b[0m",
      "\u001b[0;31mTypeError\u001b[0m                                 Traceback (most recent call last)",
      "Cell \u001b[0;32mIn[13], line 1\u001b[0m\n\u001b[0;32m----> 1\u001b[0m distance(np\u001b[39m.\u001b[39;49marray([[\u001b[39m2\u001b[39;49m,\u001b[39m2\u001b[39;49m,\u001b[39m3\u001b[39;49m]]), np\u001b[39m.\u001b[39;49marray([[\u001b[39m3\u001b[39;49m, \u001b[39m4\u001b[39;49m]]))\n",
      "File \u001b[0;32m~/.local/share/virtualenvs/asl2-dTG6GXgB/lib/python3.11/site-packages/Levenshtein/__init__.py:116\u001b[0m, in \u001b[0;36mdistance\u001b[0;34m(s1, s2, weights, processor, score_cutoff)\u001b[0m\n\u001b[1;32m     61\u001b[0m \u001b[39mdef\u001b[39;00m \u001b[39mdistance\u001b[39m(s1, s2, \u001b[39m*\u001b[39m, weights\u001b[39m=\u001b[39m(\u001b[39m1\u001b[39m, \u001b[39m1\u001b[39m, \u001b[39m1\u001b[39m), processor\u001b[39m=\u001b[39m\u001b[39mNone\u001b[39;00m, score_cutoff\u001b[39m=\u001b[39m\u001b[39mNone\u001b[39;00m):\n\u001b[1;32m     62\u001b[0m \u001b[39m    \u001b[39m\u001b[39m\"\"\"\u001b[39;00m\n\u001b[1;32m     63\u001b[0m \u001b[39m    Calculates the minimum number of insertions, deletions, and substitutions\u001b[39;00m\n\u001b[1;32m     64\u001b[0m \u001b[39m    required to change one sequence into the other according to Levenshtein with custom\u001b[39;00m\n\u001b[0;32m   (...)\u001b[0m\n\u001b[1;32m    114\u001b[0m \u001b[39m    3\u001b[39;00m\n\u001b[1;32m    115\u001b[0m \u001b[39m    \"\"\"\u001b[39;00m\n\u001b[0;32m--> 116\u001b[0m     \u001b[39mreturn\u001b[39;00m _Levenshtein\u001b[39m.\u001b[39;49mdistance(\n\u001b[1;32m    117\u001b[0m         s1, s2, weights\u001b[39m=\u001b[39;49mweights, processor\u001b[39m=\u001b[39;49mprocessor, score_cutoff\u001b[39m=\u001b[39;49mscore_cutoff\n\u001b[1;32m    118\u001b[0m     )\n",
      "File \u001b[0;32msrc/rapidfuzz/distance/metrics_cpp.pyx:228\u001b[0m, in \u001b[0;36mrapidfuzz.distance.metrics_cpp.levenshtein_distance\u001b[0;34m()\u001b[0m\n",
      "File \u001b[0;32m./src/rapidfuzz/cpp_common.pxd:376\u001b[0m, in \u001b[0;36mcpp_common.preprocess_strings\u001b[0;34m()\u001b[0m\n",
      "File \u001b[0;32m./src/rapidfuzz/cpp_common.pxd:334\u001b[0m, in \u001b[0;36mcpp_common.conv_sequence\u001b[0;34m()\u001b[0m\n",
      "File \u001b[0;32m./src/rapidfuzz/cpp_common.pxd:323\u001b[0m, in \u001b[0;36mcpp_common.hash_sequence\u001b[0;34m()\u001b[0m\n",
      "File \u001b[0;32m./src/rapidfuzz/cpp_common.pxd:319\u001b[0m, in \u001b[0;36mcpp_common.hash_sequence\u001b[0;34m()\u001b[0m\n",
      "\u001b[0;31mTypeError\u001b[0m: unhashable type: 'numpy.ndarray'"
     ]
    }
   ],
   "source": [
    "distance(np.array([[2,2,3]]), np.array([[3, 4]]))"
   ]
  },
  {
   "cell_type": "code",
   "execution_count": null,
   "metadata": {},
   "outputs": [],
   "source": []
  },
  {
   "cell_type": "code",
   "execution_count": null,
   "metadata": {},
   "outputs": [],
   "source": []
  }
 ],
 "metadata": {
  "kernelspec": {
   "display_name": "asl2-dTG6GXgB",
   "language": "python",
   "name": "python3"
  },
  "language_info": {
   "codemirror_mode": {
    "name": "ipython",
    "version": 3
   },
   "file_extension": ".py",
   "mimetype": "text/x-python",
   "name": "python",
   "nbconvert_exporter": "python",
   "pygments_lexer": "ipython3",
   "version": "3.11.4"
  },
  "orig_nbformat": 4
 },
 "nbformat": 4,
 "nbformat_minor": 2
}
