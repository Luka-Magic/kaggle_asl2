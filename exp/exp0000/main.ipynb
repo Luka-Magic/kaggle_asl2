{
 "cells": [
  {
   "cell_type": "code",
   "execution_count": 6,
   "metadata": {},
   "outputs": [],
   "source": [
    "dic = {'a': 3, 'b': 2}"
   ]
  },
  {
   "cell_type": "code",
   "execution_count": 8,
   "metadata": {},
   "outputs": [],
   "source": [
    "li = ['a', 'a', 'a', 'b', 'b']"
   ]
  },
  {
   "cell_type": "code",
   "execution_count": 9,
   "metadata": {},
   "outputs": [],
   "source": [
    "# convert element of li by dic\n",
    "li = [dic[i] for i in li]"
   ]
  },
  {
   "cell_type": "code",
   "execution_count": 10,
   "metadata": {},
   "outputs": [],
   "source": [
    "import numpy as np"
   ]
  },
  {
   "cell_type": "code",
   "execution_count": 12,
   "metadata": {},
   "outputs": [],
   "source": [
    "hand = np.random.rand(12, 543, 2)"
   ]
  },
  {
   "cell_type": "code",
   "execution_count": 13,
   "metadata": {},
   "outputs": [],
   "source": [
    "hand[5, 52, 1] = np.nan"
   ]
  },
  {
   "cell_type": "code",
   "execution_count": 16,
   "metadata": {},
   "outputs": [
    {
     "data": {
      "text/plain": [
       "array([0.50411222, 0.50209743, 0.50199629, 0.48889409, 0.48850127,\n",
       "              nan, 0.51635373, 0.49183435, 0.50153748, 0.48732868,\n",
       "       0.50116818, 0.49980379])"
      ]
     },
     "execution_count": 16,
     "metadata": {},
     "output_type": "execute_result"
    }
   ],
   "source": []
  },
  {
   "cell_type": "code",
   "execution_count": 17,
   "metadata": {},
   "outputs": [],
   "source": [
    "# delete nan frame\n",
    "not_nan_frame = ~np.isnan(np.mean(hand, axis=(1, 2)))\n",
    "hand = hand[not_nan_frame]"
   ]
  },
  {
   "cell_type": "code",
   "execution_count": 19,
   "metadata": {},
   "outputs": [
    {
     "data": {
      "text/plain": [
       "(11, 543, 2)"
      ]
     },
     "execution_count": 19,
     "metadata": {},
     "output_type": "execute_result"
    }
   ],
   "source": [
    "hand.shape"
   ]
  },
  {
   "cell_type": "code",
   "execution_count": 1,
   "metadata": {},
   "outputs": [],
   "source": [
    "from torchinfo import summary"
   ]
  },
  {
   "cell_type": "code",
   "execution_count": 41,
   "metadata": {},
   "outputs": [],
   "source": [
    "from model_ref import ModelFixedLen\n",
    "def create_model():\n",
    "    model = ModelFixedLen(\n",
    "        in_dim_H=42,\n",
    "        in_dim_L=80,\n",
    "        dim1_H=128,\n",
    "        dim1_L=64,\n",
    "        dim2=512,\n",
    "        n_class=59,\n",
    "    )\n",
    "    return model"
   ]
  },
  {
   "cell_type": "code",
   "execution_count": 43,
   "metadata": {},
   "outputs": [
    {
     "data": {
      "text/plain": [
       "==========================================================================================\n",
       "Layer (type:depth-idx)                   Output Shape              Param #\n",
       "==========================================================================================\n",
       "ModelFixedLen                            [1, 59]                   --\n",
       "├─BackboneFixedLen: 1-1                  [1, 512]                  --\n",
       "│    └─BatchNorm1d: 2-1                  [1, 42, 576]              84\n",
       "│    └─Conv1d: 2-2                       [1, 128, 576]             16,256\n",
       "│    └─RSUnit1D: 2-3                     [1, 128, 576]             49,408\n",
       "│    │    └─Conv1d: 3-1                  [1, 128, 576]             49,152\n",
       "│    │    └─BatchNorm1d: 3-2             [1, 128, 576]             256\n",
       "│    └─RSUnit1D: 2-16                    --                        (recursive)\n",
       "│    │    └─LeakyReLU: 3-3               [1, 128, 576]             --\n",
       "│    └─RSUnit1D: 2-5                     --                        (recursive)\n",
       "│    │    └─Conv1d: 3-4                  [1, 128, 576]             49,152\n",
       "│    │    └─BatchNorm1d: 3-5             [1, 128, 576]             256\n",
       "│    └─MaxPool1d: 2-6                    [1, 128, 288]             --\n",
       "│    └─RSUnit1D: 2-7                     [1, 128, 288]             49,408\n",
       "│    │    └─Conv1d: 3-6                  [1, 128, 288]             49,152\n",
       "│    │    └─BatchNorm1d: 3-7             [1, 128, 288]             256\n",
       "│    └─RSUnit1D: 2-16                    --                        (recursive)\n",
       "│    │    └─LeakyReLU: 3-8               [1, 128, 288]             --\n",
       "│    └─RSUnit1D: 2-9                     --                        (recursive)\n",
       "│    │    └─Conv1d: 3-9                  [1, 128, 288]             49,152\n",
       "│    │    └─BatchNorm1d: 3-10            [1, 128, 288]             256\n",
       "│    └─MaxPool1d: 2-10                   [1, 128, 144]             --\n",
       "│    └─RSUnit1D: 2-11                    [1, 128, 144]             49,408\n",
       "│    │    └─Conv1d: 3-11                 [1, 128, 144]             49,152\n",
       "│    │    └─BatchNorm1d: 3-12            [1, 128, 144]             256\n",
       "│    └─RSUnit1D: 2-16                    --                        (recursive)\n",
       "│    │    └─LeakyReLU: 3-13              [1, 128, 144]             --\n",
       "│    └─RSUnit1D: 2-13                    --                        (recursive)\n",
       "│    │    └─Conv1d: 3-14                 [1, 128, 144]             49,152\n",
       "│    │    └─BatchNorm1d: 3-15            [1, 128, 144]             256\n",
       "│    └─MaxPool1d: 2-14                   [1, 128, 72]              --\n",
       "│    └─RSUnit1D: 2-15                    [1, 128, 72]              49,408\n",
       "│    │    └─Conv1d: 3-16                 [1, 128, 72]              49,152\n",
       "│    │    └─BatchNorm1d: 3-17            [1, 128, 72]              256\n",
       "│    └─RSUnit1D: 2-16                    --                        (recursive)\n",
       "│    │    └─LeakyReLU: 3-18              [1, 128, 72]              --\n",
       "│    └─RSUnit1D: 2-17                    --                        (recursive)\n",
       "│    │    └─Conv1d: 3-19                 [1, 128, 72]              49,152\n",
       "│    │    └─BatchNorm1d: 3-20            [1, 128, 72]              256\n",
       "│    └─RSUnit1D: 2-18                    [1, 128, 72]              --\n",
       "│    │    └─Conv1d: 3-21                 [1, 128, 72]              49,152\n",
       "│    │    └─BatchNorm1d: 3-22            [1, 128, 72]              256\n",
       "│    │    └─LeakyReLU: 3-23              [1, 128, 72]              --\n",
       "│    │    └─Conv1d: 3-24                 [1, 128, 72]              49,152\n",
       "│    │    └─BatchNorm1d: 3-25            [1, 128, 72]              256\n",
       "│    └─Conv1d: 2-19                      [1, 512, 72]              66,048\n",
       "│    └─AdaptiveMaxPool1d: 2-20           [1, 512, 1]               --\n",
       "│    └─Flatten: 2-21                     [1, 512]                  --\n",
       "├─BackboneFixedLen: 1-2                  [1, 512]                  --\n",
       "│    └─BatchNorm1d: 2-22                 [1, 80, 784]              160\n",
       "│    └─Conv1d: 2-23                      [1, 64, 784]              15,424\n",
       "│    └─RSUnit1D: 2-24                    [1, 64, 784]              12,416\n",
       "│    │    └─Conv1d: 3-26                 [1, 64, 784]              12,288\n",
       "│    │    └─BatchNorm1d: 3-27            [1, 64, 784]              128\n",
       "│    └─RSUnit1D: 2-37                    --                        (recursive)\n",
       "│    │    └─LeakyReLU: 3-28              [1, 64, 784]              --\n",
       "│    └─RSUnit1D: 2-26                    --                        (recursive)\n",
       "│    │    └─Conv1d: 3-29                 [1, 64, 784]              12,288\n",
       "│    │    └─BatchNorm1d: 3-30            [1, 64, 784]              128\n",
       "│    └─MaxPool1d: 2-27                   [1, 64, 392]              --\n",
       "│    └─RSUnit1D: 2-28                    [1, 64, 392]              12,416\n",
       "│    │    └─Conv1d: 3-31                 [1, 64, 392]              12,288\n",
       "│    │    └─BatchNorm1d: 3-32            [1, 64, 392]              128\n",
       "│    └─RSUnit1D: 2-37                    --                        (recursive)\n",
       "│    │    └─LeakyReLU: 3-33              [1, 64, 392]              --\n",
       "│    └─RSUnit1D: 2-30                    --                        (recursive)\n",
       "│    │    └─Conv1d: 3-34                 [1, 64, 392]              12,288\n",
       "│    │    └─BatchNorm1d: 3-35            [1, 64, 392]              128\n",
       "│    └─MaxPool1d: 2-31                   [1, 64, 196]              --\n",
       "│    └─RSUnit1D: 2-32                    [1, 64, 196]              12,416\n",
       "│    │    └─Conv1d: 3-36                 [1, 64, 196]              12,288\n",
       "│    │    └─BatchNorm1d: 3-37            [1, 64, 196]              128\n",
       "│    └─RSUnit1D: 2-37                    --                        (recursive)\n",
       "│    │    └─LeakyReLU: 3-38              [1, 64, 196]              --\n",
       "│    └─RSUnit1D: 2-34                    --                        (recursive)\n",
       "│    │    └─Conv1d: 3-39                 [1, 64, 196]              12,288\n",
       "│    │    └─BatchNorm1d: 3-40            [1, 64, 196]              128\n",
       "│    └─MaxPool1d: 2-35                   [1, 64, 98]               --\n",
       "│    └─RSUnit1D: 2-36                    [1, 64, 98]               12,416\n",
       "│    │    └─Conv1d: 3-41                 [1, 64, 98]               12,288\n",
       "│    │    └─BatchNorm1d: 3-42            [1, 64, 98]               128\n",
       "│    └─RSUnit1D: 2-37                    --                        (recursive)\n",
       "│    │    └─LeakyReLU: 3-43              [1, 64, 98]               --\n",
       "│    └─RSUnit1D: 2-38                    --                        (recursive)\n",
       "│    │    └─Conv1d: 3-44                 [1, 64, 98]               12,288\n",
       "│    │    └─BatchNorm1d: 3-45            [1, 64, 98]               128\n",
       "│    └─RSUnit1D: 2-39                    [1, 64, 98]               --\n",
       "│    │    └─Conv1d: 3-46                 [1, 64, 98]               12,288\n",
       "│    │    └─BatchNorm1d: 3-47            [1, 64, 98]               128\n",
       "│    │    └─LeakyReLU: 3-48              [1, 64, 98]               --\n",
       "│    │    └─Conv1d: 3-49                 [1, 64, 98]               12,288\n",
       "│    │    └─BatchNorm1d: 3-50            [1, 64, 98]               128\n",
       "│    └─Conv1d: 2-40                      [1, 512, 98]              33,280\n",
       "│    └─AdaptiveMaxPool1d: 2-41           [1, 512, 1]               --\n",
       "│    └─Flatten: 2-42                     [1, 512]                  --\n",
       "├─LRUnit1D: 1-3                          [1, 512]                  263,168\n",
       "│    └─Linear: 2-43                      [1, 512]                  262,144\n",
       "│    └─BatchNorm1d: 2-44                 [1, 512]                  1,024\n",
       "├─LRUnit1D: 1-7                          --                        (recursive)\n",
       "│    └─LeakyReLU: 2-45                   [1, 512]                  --\n",
       "├─LRUnit1D: 1-5                          --                        (recursive)\n",
       "│    └─Linear: 2-46                      [1, 512]                  262,144\n",
       "│    └─BatchNorm1d: 2-47                 [1, 512]                  1,024\n",
       "│    └─StochasticDepth: 2-48             [1, 512]                  --\n",
       "├─LRUnit1D: 1-6                          [1, 512]                  263,168\n",
       "│    └─Linear: 2-49                      [1, 512]                  262,144\n",
       "│    └─BatchNorm1d: 2-50                 [1, 512]                  1,024\n",
       "├─LRUnit1D: 1-7                          --                        (recursive)\n",
       "│    └─LeakyReLU: 2-51                   [1, 512]                  --\n",
       "├─LRUnit1D: 1-8                          --                        (recursive)\n",
       "│    └─Linear: 2-52                      [1, 512]                  262,144\n",
       "│    └─BatchNorm1d: 2-53                 [1, 512]                  1,024\n",
       "│    └─StochasticDepth: 2-54             [1, 512]                  --\n",
       "├─LRUnit1D: 1-9                          [1, 512]                  --\n",
       "│    └─Linear: 2-55                      [1, 512]                  262,144\n",
       "│    └─BatchNorm1d: 2-56                 [1, 512]                  1,024\n",
       "│    └─LeakyReLU: 2-57                   [1, 512]                  --\n",
       "│    └─Linear: 2-58                      [1, 512]                  262,144\n",
       "│    └─BatchNorm1d: 2-59                 [1, 512]                  1,024\n",
       "│    └─StochasticDepth: 2-60             [1, 512]                  --\n",
       "├─ArcMarginProduct: 1-10                 [1, 59]                   30,208\n",
       "==========================================================================================\n",
       "Total params: 3,132,340\n",
       "Trainable params: 3,132,340\n",
       "Non-trainable params: 0\n",
       "Total mult-adds (Units.MEGABYTES): 182.87\n",
       "==========================================================================================\n",
       "Input size (MB): 0.35\n",
       "Forward/backward pass size (MB): 10.36\n",
       "Params size (MB): 9.43\n",
       "Estimated Total Size (MB): 20.14\n",
       "=========================================================================================="
      ]
     },
     "execution_count": 43,
     "metadata": {},
     "output_type": "execute_result"
    }
   ],
   "source": [
    "model = create_model()\n",
    "\n",
    "summary(\n",
    "    model,\n",
    "    input_size=((1, 42, 576), (1, 80, 784)),\n",
    ")"
   ]
  },
  {
   "cell_type": "code",
   "execution_count": 2,
   "metadata": {},
   "outputs": [],
   "source": [
    "import torch\n",
    "import torch.nn as nn\n",
    "import torch.nn.functional as F"
   ]
  },
  {
   "cell_type": "code",
   "execution_count": 3,
   "metadata": {},
   "outputs": [],
   "source": [
    "class Model(nn.Module):\n",
    "    def __init__(self, seq_len, n_features, n_class):\n",
    "        super(Model, self).__init__()\n",
    "        self.bn0 = nn.BatchNorm1d(n_features)\n",
    "        self.conv1 = nn.Conv1d(n_features, 128, 3, padding=1)\n",
    "        self.bn1 = nn.BatchNorm1d(128)\n",
    "        self.conv2 = nn.Conv1d(128, 128, 3, padding=1)\n",
    "        self.bn2 = nn.BatchNorm1d(128)\n",
    "        self.fc = nn.Linear(128, n_class)\n",
    "    \n",
    "    def forward(self, x):\n",
    "        '''\n",
    "            input: (bs, 42, 576)\n",
    "            output: (bs, 576(seq_len), 59(n_classes))\n",
    "        '''\n",
    "        # x = self.bn0(x)\n",
    "        x = F.relu(self.bn1(self.conv1(x)))\n",
    "        x = F.relu(self.bn2(self.conv2(x))) # (bs, 42, 576)\n",
    "        x = x.permute(0, 2, 1) # (bs, 576, 42)\n",
    "        x = self.fc(x) # (bs, 42, 59)\n",
    "        return x"
   ]
  },
  {
   "cell_type": "code",
   "execution_count": 4,
   "metadata": {},
   "outputs": [],
   "source": [
    "model = Model(574, 42, 59)"
   ]
  },
  {
   "cell_type": "code",
   "execution_count": 5,
   "metadata": {},
   "outputs": [
    {
     "data": {
      "text/plain": [
       "==========================================================================================\n",
       "Layer (type:depth-idx)                   Output Shape              Param #\n",
       "==========================================================================================\n",
       "Model                                    [1, 574, 59]              84\n",
       "├─Conv1d: 1-1                            [1, 128, 574]             16,256\n",
       "├─BatchNorm1d: 1-2                       [1, 128, 574]             256\n",
       "├─Conv1d: 1-3                            [1, 128, 574]             49,280\n",
       "├─BatchNorm1d: 1-4                       [1, 128, 574]             256\n",
       "├─Linear: 1-5                            [1, 574, 59]              7,611\n",
       "==========================================================================================\n",
       "Total params: 73,743\n",
       "Trainable params: 73,743\n",
       "Non-trainable params: 0\n",
       "Total mult-adds (Units.MEGABYTES): 37.63\n",
       "==========================================================================================\n",
       "Input size (MB): 0.10\n",
       "Forward/backward pass size (MB): 2.62\n",
       "Params size (MB): 0.29\n",
       "Estimated Total Size (MB): 3.01\n",
       "=========================================================================================="
      ]
     },
     "execution_count": 5,
     "metadata": {},
     "output_type": "execute_result"
    }
   ],
   "source": [
    "summary(model, input_size=(1, 42, 574))"
   ]
  },
  {
   "cell_type": "code",
   "execution_count": 71,
   "metadata": {},
   "outputs": [],
   "source": [
    "bn = nn.BatchNorm1d(42)\n",
    "x = torch.randn(1, 42, 574)"
   ]
  },
  {
   "cell_type": "code",
   "execution_count": 72,
   "metadata": {},
   "outputs": [],
   "source": [
    "out = bn(x)"
   ]
  },
  {
   "cell_type": "code",
   "execution_count": 76,
   "metadata": {},
   "outputs": [
    {
     "data": {
      "text/plain": [
       "torch.Size([1, 42, 574])"
      ]
     },
     "execution_count": 76,
     "metadata": {},
     "output_type": "execute_result"
    }
   ],
   "source": [
    "out.shape"
   ]
  },
  {
   "cell_type": "code",
   "execution_count": 77,
   "metadata": {},
   "outputs": [
    {
     "data": {
      "text/plain": [
       "tensor(1.0009, grad_fn=<StdBackward0>)"
      ]
     },
     "execution_count": 77,
     "metadata": {},
     "output_type": "execute_result"
    }
   ],
   "source": [
    "out[0, 1, :].std()"
   ]
  },
  {
   "cell_type": "code",
   "execution_count": 32,
   "metadata": {},
   "outputs": [
    {
     "data": {
      "text/plain": [
       "tensor(-0.0134, grad_fn=<MeanBackward0>)"
      ]
     },
     "execution_count": 32,
     "metadata": {},
     "output_type": "execute_result"
    }
   ],
   "source": [
    "out[0, 2, :].mean()"
   ]
  },
  {
   "cell_type": "code",
   "execution_count": 33,
   "metadata": {},
   "outputs": [
    {
     "data": {
      "text/plain": [
       "torch.Size([1, 12, 1086])"
      ]
     },
     "execution_count": 33,
     "metadata": {},
     "output_type": "execute_result"
    }
   ],
   "source": [
    "out.shape"
   ]
  },
  {
   "cell_type": "code",
   "execution_count": 9,
   "metadata": {},
   "outputs": [],
   "source": [
    "from Levenshtein import distance \n",
    "import numpy as np"
   ]
  },
  {
   "cell_type": "code",
   "execution_count": 10,
   "metadata": {},
   "outputs": [
    {
     "data": {
      "text/plain": [
       "1"
      ]
     },
     "execution_count": 10,
     "metadata": {},
     "output_type": "execute_result"
    }
   ],
   "source": [
    "distance('aab', 'aa')"
   ]
  },
  {
   "cell_type": "code",
   "execution_count": 13,
   "metadata": {},
   "outputs": [
    {
     "ename": "TypeError",
     "evalue": "unhashable type: 'numpy.ndarray'",
     "output_type": "error",
     "traceback": [
      "\u001b[0;31m---------------------------------------------------------------------------\u001b[0m",
      "\u001b[0;31mTypeError\u001b[0m                                 Traceback (most recent call last)",
      "Cell \u001b[0;32mIn[13], line 1\u001b[0m\n\u001b[0;32m----> 1\u001b[0m distance(np\u001b[39m.\u001b[39;49marray([[\u001b[39m2\u001b[39;49m,\u001b[39m2\u001b[39;49m,\u001b[39m3\u001b[39;49m]]), np\u001b[39m.\u001b[39;49marray([[\u001b[39m3\u001b[39;49m, \u001b[39m4\u001b[39;49m]]))\n",
      "File \u001b[0;32m~/.local/share/virtualenvs/asl2-dTG6GXgB/lib/python3.11/site-packages/Levenshtein/__init__.py:116\u001b[0m, in \u001b[0;36mdistance\u001b[0;34m(s1, s2, weights, processor, score_cutoff)\u001b[0m\n\u001b[1;32m     61\u001b[0m \u001b[39mdef\u001b[39;00m \u001b[39mdistance\u001b[39m(s1, s2, \u001b[39m*\u001b[39m, weights\u001b[39m=\u001b[39m(\u001b[39m1\u001b[39m, \u001b[39m1\u001b[39m, \u001b[39m1\u001b[39m), processor\u001b[39m=\u001b[39m\u001b[39mNone\u001b[39;00m, score_cutoff\u001b[39m=\u001b[39m\u001b[39mNone\u001b[39;00m):\n\u001b[1;32m     62\u001b[0m \u001b[39m    \u001b[39m\u001b[39m\"\"\"\u001b[39;00m\n\u001b[1;32m     63\u001b[0m \u001b[39m    Calculates the minimum number of insertions, deletions, and substitutions\u001b[39;00m\n\u001b[1;32m     64\u001b[0m \u001b[39m    required to change one sequence into the other according to Levenshtein with custom\u001b[39;00m\n\u001b[0;32m   (...)\u001b[0m\n\u001b[1;32m    114\u001b[0m \u001b[39m    3\u001b[39;00m\n\u001b[1;32m    115\u001b[0m \u001b[39m    \"\"\"\u001b[39;00m\n\u001b[0;32m--> 116\u001b[0m     \u001b[39mreturn\u001b[39;00m _Levenshtein\u001b[39m.\u001b[39;49mdistance(\n\u001b[1;32m    117\u001b[0m         s1, s2, weights\u001b[39m=\u001b[39;49mweights, processor\u001b[39m=\u001b[39;49mprocessor, score_cutoff\u001b[39m=\u001b[39;49mscore_cutoff\n\u001b[1;32m    118\u001b[0m     )\n",
      "File \u001b[0;32msrc/rapidfuzz/distance/metrics_cpp.pyx:228\u001b[0m, in \u001b[0;36mrapidfuzz.distance.metrics_cpp.levenshtein_distance\u001b[0;34m()\u001b[0m\n",
      "File \u001b[0;32m./src/rapidfuzz/cpp_common.pxd:376\u001b[0m, in \u001b[0;36mcpp_common.preprocess_strings\u001b[0;34m()\u001b[0m\n",
      "File \u001b[0;32m./src/rapidfuzz/cpp_common.pxd:334\u001b[0m, in \u001b[0;36mcpp_common.conv_sequence\u001b[0;34m()\u001b[0m\n",
      "File \u001b[0;32m./src/rapidfuzz/cpp_common.pxd:323\u001b[0m, in \u001b[0;36mcpp_common.hash_sequence\u001b[0;34m()\u001b[0m\n",
      "File \u001b[0;32m./src/rapidfuzz/cpp_common.pxd:319\u001b[0m, in \u001b[0;36mcpp_common.hash_sequence\u001b[0;34m()\u001b[0m\n",
      "\u001b[0;31mTypeError\u001b[0m: unhashable type: 'numpy.ndarray'"
     ]
    }
   ],
   "source": [
    "distance(np.array([[2,2,3]]), np.array([[3, 4]]))"
   ]
  },
  {
   "cell_type": "code",
   "execution_count": null,
   "metadata": {},
   "outputs": [],
   "source": []
  },
  {
   "cell_type": "code",
   "execution_count": null,
   "metadata": {},
   "outputs": [],
   "source": []
  }
 ],
 "metadata": {
  "kernelspec": {
   "display_name": "asl2-dTG6GXgB",
   "language": "python",
   "name": "python3"
  },
  "language_info": {
   "codemirror_mode": {
    "name": "ipython",
    "version": 3
   },
   "file_extension": ".py",
   "mimetype": "text/x-python",
   "name": "python",
   "nbconvert_exporter": "python",
   "pygments_lexer": "ipython3",
   "version": "3.11.4"
  },
  "orig_nbformat": 4
 },
 "nbformat": 4,
 "nbformat_minor": 2
}
