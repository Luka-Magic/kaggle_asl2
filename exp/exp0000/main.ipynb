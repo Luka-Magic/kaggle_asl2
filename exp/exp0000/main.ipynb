{
 "cells": [
  {
   "cell_type": "code",
   "execution_count": 6,
   "metadata": {},
   "outputs": [],
   "source": [
    "dic = {'a': 3, 'b': 2}"
   ]
  },
  {
   "cell_type": "code",
   "execution_count": 8,
   "metadata": {},
   "outputs": [],
   "source": [
    "li = ['a', 'a', 'a', 'b', 'b']"
   ]
  },
  {
   "cell_type": "code",
   "execution_count": 9,
   "metadata": {},
   "outputs": [],
   "source": [
    "# convert element of li by dic\n",
    "li = [dic[i] for i in li]"
   ]
  },
  {
   "cell_type": "code",
   "execution_count": 10,
   "metadata": {},
   "outputs": [],
   "source": [
    "import numpy as np"
   ]
  },
  {
   "cell_type": "code",
   "execution_count": 12,
   "metadata": {},
   "outputs": [],
   "source": [
    "hand = np.random.rand(12, 543, 2)"
   ]
  },
  {
   "cell_type": "code",
   "execution_count": 13,
   "metadata": {},
   "outputs": [],
   "source": [
    "hand[5, 52, 1] = np.nan"
   ]
  },
  {
   "cell_type": "code",
   "execution_count": 16,
   "metadata": {},
   "outputs": [
    {
     "data": {
      "text/plain": [
       "array([0.50411222, 0.50209743, 0.50199629, 0.48889409, 0.48850127,\n",
       "              nan, 0.51635373, 0.49183435, 0.50153748, 0.48732868,\n",
       "       0.50116818, 0.49980379])"
      ]
     },
     "execution_count": 16,
     "metadata": {},
     "output_type": "execute_result"
    }
   ],
   "source": []
  },
  {
   "cell_type": "code",
   "execution_count": 17,
   "metadata": {},
   "outputs": [],
   "source": [
    "# delete nan frame\n",
    "not_nan_frame = ~np.isnan(np.mean(hand, axis=(1, 2)))\n",
    "hand = hand[not_nan_frame]"
   ]
  },
  {
   "cell_type": "code",
   "execution_count": 19,
   "metadata": {},
   "outputs": [
    {
     "data": {
      "text/plain": [
       "(11, 543, 2)"
      ]
     },
     "execution_count": 19,
     "metadata": {},
     "output_type": "execute_result"
    }
   ],
   "source": [
    "hand.shape"
   ]
  },
  {
   "cell_type": "code",
   "execution_count": 3,
   "metadata": {},
   "outputs": [],
   "source": [
    "from torchinfo import summary"
   ]
  },
  {
   "cell_type": "code",
   "execution_count": 64,
   "metadata": {},
   "outputs": [],
   "source": [
    "import math\n",
    "import torch\n",
    "from torch import nn\n",
    "from torch.nn import functional as F\n",
    "\n",
    "\n",
    "class BidirectionalLSTM(nn.Module):\n",
    "\n",
    "    def __init__(self, input_size, hidden_size, output_size):\n",
    "        super(BidirectionalLSTM, self).__init__()\n",
    "        self.rnn = nn.LSTM(input_size, hidden_size,\n",
    "                           bidirectional=True, batch_first=True)\n",
    "        self.linear = nn.Linear(hidden_size * 2, output_size)\n",
    "\n",
    "    def forward(self, input):\n",
    "        \"\"\"\n",
    "        input : visual feature [batch_size x T x input_size]\n",
    "        output : contextual feature [batch_size x T x output_size]\n",
    "        \"\"\"\n",
    "        self.rnn.flatten_parameters()\n",
    "        # batch_size x T x input_size -> batch_size x T x (2*hidden_size)\n",
    "        recurrent, _ = self.rnn(input)\n",
    "        output = self.linear(recurrent)  # batch_size x T x output_size\n",
    "        return output\n",
    "\n",
    "\n",
    "class RSUnit1D(nn.Module):\n",
    "    def __init__(self, in_dim, kernel_size=3, padding=1,\n",
    "                 padding_mode='zeros', actf=torch.nn.ReLU()):\n",
    "        super(RSUnit1D, self).__init__()\n",
    "        self.layer0 = nn.Conv1d(in_dim, in_dim, kernel_size=kernel_size,\n",
    "                                padding=padding, padding_mode=padding_mode, bias=False)\n",
    "        self.bn0 = nn.BatchNorm1d(in_dim)\n",
    "        self.layer1 = nn.Conv1d(in_dim, in_dim, kernel_size=kernel_size,\n",
    "                                padding=padding, padding_mode=padding_mode, bias=False)\n",
    "        self.bn1 = nn.BatchNorm1d(in_dim)\n",
    "        self.actf = actf\n",
    "\n",
    "    def forward(self, x):\n",
    "        h = self.actf(self.bn0(self.layer0(x)))\n",
    "        h = self.bn1(self.layer1(h))\n",
    "        return x + h\n",
    "\n",
    "\n",
    "class Model(nn.Module):\n",
    "    def __init__(self, seq_len, n_features, n_class):\n",
    "        super(Model, self).__init__()\n",
    "        # self.actf = torch.nn.LeakyReLU(negative_slope=0.1)\n",
    "        self.actf = nn.ReLU()\n",
    "        self.conv1 = nn.Conv1d(n_features, 128, 3, padding=1)\n",
    "        self.bn1 = nn.BatchNorm1d(128)  # 各landmarkでmean,std=0,1にする\n",
    "        self.conv2 = RSUnit1D(128, 3, padding=1)\n",
    "        self.conv3 = RSUnit1D(128, 3, padding=1)\n",
    "        self.conv4 = RSUnit1D(128, 3, padding=1)\n",
    "        self.conv5 = nn.Conv1d(\n",
    "            128, 256, kernel_size=1, padding=0, bias=True)\n",
    "        self.sequence_models = nn.Sequential(\n",
    "            BidirectionalLSTM(256, 256, 256),\n",
    "            BidirectionalLSTM(256, 256, 256),\n",
    "        )\n",
    "        self.fc = nn.Linear(256, n_class)\n",
    "\n",
    "    def forward(self, x):\n",
    "        '''\n",
    "            input: (bs, 42, 576)\n",
    "            output: (bs, 576(seq_len), 59(n_classes))\n",
    "        '''\n",
    "        # x = self.bn0(x)\n",
    "        x = self.actf(self.bn1(self.conv1(x)))\n",
    "        x = self.conv2(x)\n",
    "        x = self.conv3(x)\n",
    "        x = self.conv4(x)\n",
    "        x = self.conv5(x)  # (bs, 256, 576)\n",
    "        x = x.permute(0, 2, 1)  # (bs, 576, 256) B T C\n",
    "        x = self.sequence_models(x)\n",
    "        x = self.fc(x)  # (bs, 576, 60)\n",
    "        return x\n"
   ]
  },
  {
   "cell_type": "code",
   "execution_count": 65,
   "metadata": {},
   "outputs": [
    {
     "data": {
      "text/plain": [
       "==========================================================================================\n",
       "Layer (type:depth-idx)                   Output Shape              Param #\n",
       "==========================================================================================\n",
       "Model                                    [1, 576, 60]              --\n",
       "├─Conv1d: 1-1                            [1, 128, 576]             16,256\n",
       "├─BatchNorm1d: 1-2                       [1, 128, 576]             256\n",
       "├─ReLU: 1-3                              [1, 128, 576]             --\n",
       "├─RSUnit1D: 1-4                          [1, 128, 576]             49,408\n",
       "│    └─Conv1d: 2-1                       [1, 128, 576]             49,152\n",
       "│    └─BatchNorm1d: 2-2                  [1, 128, 576]             256\n",
       "├─RSUnit1D: 1-8                          --                        (recursive)\n",
       "│    └─ReLU: 2-3                         [1, 128, 576]             --\n",
       "├─RSUnit1D: 1-6                          --                        (recursive)\n",
       "│    └─Conv1d: 2-4                       [1, 128, 576]             49,152\n",
       "│    └─BatchNorm1d: 2-5                  [1, 128, 576]             256\n",
       "├─RSUnit1D: 1-7                          [1, 128, 576]             49,408\n",
       "│    └─Conv1d: 2-6                       [1, 128, 576]             49,152\n",
       "│    └─BatchNorm1d: 2-7                  [1, 128, 576]             256\n",
       "├─RSUnit1D: 1-8                          --                        (recursive)\n",
       "│    └─ReLU: 2-8                         [1, 128, 576]             --\n",
       "├─RSUnit1D: 1-9                          --                        (recursive)\n",
       "│    └─Conv1d: 2-9                       [1, 128, 576]             49,152\n",
       "│    └─BatchNorm1d: 2-10                 [1, 128, 576]             256\n",
       "├─RSUnit1D: 1-10                         [1, 128, 576]             --\n",
       "│    └─Conv1d: 2-11                      [1, 128, 576]             49,152\n",
       "│    └─BatchNorm1d: 2-12                 [1, 128, 576]             256\n",
       "│    └─ReLU: 2-13                        [1, 128, 576]             --\n",
       "│    └─Conv1d: 2-14                      [1, 128, 576]             49,152\n",
       "│    └─BatchNorm1d: 2-15                 [1, 128, 576]             256\n",
       "├─Conv1d: 1-11                           [1, 256, 576]             33,024\n",
       "├─Sequential: 1-12                       [1, 576, 256]             --\n",
       "│    └─BidirectionalLSTM: 2-16           [1, 576, 256]             --\n",
       "│    │    └─LSTM: 3-1                    [1, 576, 512]             1,052,672\n",
       "│    │    └─Linear: 3-2                  [1, 576, 256]             131,328\n",
       "│    └─BidirectionalLSTM: 2-17           [1, 576, 256]             --\n",
       "│    │    └─LSTM: 3-3                    [1, 576, 512]             1,052,672\n",
       "│    │    └─Linear: 3-4                  [1, 576, 256]             131,328\n",
       "├─Linear: 1-13                           [1, 576, 60]              15,420\n",
       "==========================================================================================\n",
       "Total params: 2,828,220\n",
       "Trainable params: 2,828,220\n",
       "Non-trainable params: 0\n",
       "Total mult-adds (Units.GIGABYTES): 1.41\n",
       "==========================================================================================\n",
       "Input size (MB): 0.10\n",
       "Forward/backward pass size (MB): 16.79\n",
       "Params size (MB): 10.92\n",
       "Estimated Total Size (MB): 27.81\n",
       "=========================================================================================="
      ]
     },
     "execution_count": 65,
     "metadata": {},
     "output_type": "execute_result"
    }
   ],
   "source": [
    "model = Model(576, 42, 60)\n",
    "\n",
    "summary(\n",
    "    model,\n",
    "    input_size=((1, 42, 576))\n",
    ")"
   ]
  },
  {
   "cell_type": "code",
   "execution_count": 2,
   "metadata": {},
   "outputs": [],
   "source": [
    "import torch\n",
    "import torch.nn as nn\n",
    "import torch.nn.functional as F"
   ]
  },
  {
   "cell_type": "code",
   "execution_count": 115,
   "metadata": {},
   "outputs": [],
   "source": [
    "import math\n",
    "import torch\n",
    "from torch import nn\n",
    "from torch.nn import functional as F\n",
    "\n",
    "\n",
    "class BidirectionalLSTM(nn.Module):\n",
    "\n",
    "    def __init__(self, input_size, hidden_size, output_size):\n",
    "        super(BidirectionalLSTM, self).__init__()\n",
    "        self.rnn = nn.LSTM(input_size, hidden_size,\n",
    "                           bidirectional=True, batch_first=True)\n",
    "        self.linear = nn.Linear(hidden_size * 2, output_size)\n",
    "\n",
    "    def forward(self, input):\n",
    "        \"\"\"\n",
    "        input : visual feature [batch_size x T x input_size]\n",
    "        output : contextual feature [batch_size x T x output_size]\n",
    "        \"\"\"\n",
    "        self.rnn.flatten_parameters()\n",
    "        # batch_size x T x input_size -> batch_size x T x (2*hidden_size)\n",
    "        recurrent, _ = self.rnn(input)\n",
    "        output = self.linear(recurrent)  # batch_size x T x output_size\n",
    "        return output\n",
    "\n",
    "\n",
    "class LRUnit1D(nn.Module):\n",
    "    def __init__(self, in_dim, actf=torch.nn.ReLU()):\n",
    "        super(LRUnit1D, self).__init__()\n",
    "        self.layer0 = nn.Linear(in_dim, in_dim, bias=False)\n",
    "        self.bn0 = nn.BatchNorm1d(in_dim)\n",
    "        self.layer1 = nn.Linear(in_dim, in_dim, bias=False)\n",
    "        self.bn1 = nn.BatchNorm1d(in_dim)\n",
    "        self.actf = actf\n",
    "\n",
    "    def forward(self, x):\n",
    "        h = self.actf(self.bn0(self.layer0(x)))\n",
    "        h = self.bn1(self.layer1(h))\n",
    "        return x + h\n",
    "\n",
    "\n",
    "class RSUnit1D(nn.Module):\n",
    "    def __init__(self, in_dim, kernel_size=3, padding=1,\n",
    "                 padding_mode='zeros', actf=torch.nn.ReLU()):\n",
    "        super(RSUnit1D, self).__init__()\n",
    "        self.layer0 = nn.Conv1d(in_dim, in_dim, kernel_size=kernel_size,\n",
    "                                padding=padding, padding_mode=padding_mode, bias=False)\n",
    "        self.bn0 = nn.BatchNorm1d(in_dim)\n",
    "        self.layer1 = nn.Conv1d(in_dim, in_dim, kernel_size=kernel_size,\n",
    "                                padding=padding, padding_mode=padding_mode, bias=False)\n",
    "        self.bn1 = nn.BatchNorm1d(in_dim)\n",
    "        self.actf = actf\n",
    "\n",
    "    def forward(self, x):\n",
    "        h = self.actf(self.bn0(self.layer0(x)))\n",
    "        h = self.bn1(self.layer1(h))\n",
    "        return x + h\n",
    "\n",
    "\n",
    "class Model(nn.Module):\n",
    "    def __init__(self, seq_len, n_features, n_class):\n",
    "        super(Model, self).__init__()\n",
    "        self.actf = nn.LeakyReLU(negative_slope=0.1)\n",
    "        # self.bn0 = nn.BatchNorm1d(n_features)  # 各landmarkでmean,std=0,1にする\n",
    "        self.conv1 = nn.Conv1d(n_features, 128, 3, padding=1)\n",
    "        self.bn1 = nn.BatchNorm1d(128)  # 各landmarkでmean,std=0,1にする\n",
    "        self.conv2 = RSUnit1D(128, 3, padding=1, actf=self.actf)\n",
    "        self.conv3 = RSUnit1D(128, 3, padding=1, actf=self.actf)\n",
    "        self.conv4 = RSUnit1D(128, 3, padding=1, actf=self.actf)\n",
    "        self.conv5 = nn.Conv1d(\n",
    "            128, 256, kernel_size=1, padding=0, bias=True)\n",
    "        self.sequence_models = nn.Sequential(\n",
    "            BidirectionalLSTM(256, 256, 256),\n",
    "            BidirectionalLSTM(256, 256, 256),\n",
    "        )\n",
    "        self.linear0 = nn.Linear(256, 128)\n",
    "        self.fc = nn.Linear(128, n_class)\n",
    "\n",
    "    def forward(self, x):\n",
    "        '''\n",
    "            input: (bs, 42, 576)\n",
    "            output: (bs, 576(seq_len), 59(n_classes))\n",
    "        '''\n",
    "        x = self.actf(self.bn1(self.conv1(x)))\n",
    "        x = self.conv2(x)\n",
    "        x = self.conv3(x)\n",
    "        x = self.conv4(x)\n",
    "        x = self.conv5(x)  # (bs, 256, 576)\n",
    "        x = x.permute(0, 2, 1)  # (bs, 576, 256) B T C\n",
    "        x = self.sequence_models(x)\n",
    "        x = self.linear0(x)\n",
    "        x = self.actf(x)\n",
    "        x = self.fc(x)\n",
    "        return x"
   ]
  },
  {
   "cell_type": "code",
   "execution_count": 116,
   "metadata": {},
   "outputs": [],
   "source": [
    "model = Model(574, 42, 60)"
   ]
  },
  {
   "cell_type": "code",
   "execution_count": 117,
   "metadata": {},
   "outputs": [
    {
     "data": {
      "text/plain": [
       "==========================================================================================\n",
       "Layer (type:depth-idx)                   Output Shape              Param #\n",
       "==========================================================================================\n",
       "Model                                    [1, 574, 60]              --\n",
       "├─Conv1d: 1-1                            [1, 128, 574]             16,256\n",
       "├─BatchNorm1d: 1-2                       [1, 128, 574]             256\n",
       "├─RSUnit1D: 1-14                         --                        (recursive)\n",
       "│    └─LeakyReLU: 2-1                    [1, 128, 574]             --\n",
       "├─RSUnit1D: 1-4                          [1, 128, 574]             49,408\n",
       "│    └─Conv1d: 2-2                       [1, 128, 574]             49,152\n",
       "│    └─BatchNorm1d: 2-3                  [1, 128, 574]             256\n",
       "├─RSUnit1D: 1-14                         --                        (recursive)\n",
       "│    └─LeakyReLU: 2-4                    [1, 128, 574]             --\n",
       "├─RSUnit1D: 1-6                          --                        (recursive)\n",
       "│    └─Conv1d: 2-5                       [1, 128, 574]             49,152\n",
       "│    └─BatchNorm1d: 2-6                  [1, 128, 574]             256\n",
       "├─RSUnit1D: 1-7                          [1, 128, 574]             49,408\n",
       "│    └─Conv1d: 2-7                       [1, 128, 574]             49,152\n",
       "│    └─BatchNorm1d: 2-8                  [1, 128, 574]             256\n",
       "├─RSUnit1D: 1-14                         --                        (recursive)\n",
       "│    └─LeakyReLU: 2-9                    [1, 128, 574]             --\n",
       "├─RSUnit1D: 1-9                          --                        (recursive)\n",
       "│    └─Conv1d: 2-10                      [1, 128, 574]             49,152\n",
       "│    └─BatchNorm1d: 2-11                 [1, 128, 574]             256\n",
       "├─RSUnit1D: 1-10                         [1, 128, 574]             --\n",
       "│    └─Conv1d: 2-12                      [1, 128, 574]             49,152\n",
       "│    └─BatchNorm1d: 2-13                 [1, 128, 574]             256\n",
       "│    └─LeakyReLU: 2-14                   [1, 128, 574]             --\n",
       "│    └─Conv1d: 2-15                      [1, 128, 574]             49,152\n",
       "│    └─BatchNorm1d: 2-16                 [1, 128, 574]             256\n",
       "├─Conv1d: 1-11                           [1, 256, 574]             33,024\n",
       "├─Sequential: 1-12                       [1, 574, 256]             --\n",
       "│    └─BidirectionalLSTM: 2-17           [1, 574, 256]             --\n",
       "│    │    └─LSTM: 3-1                    [1, 574, 512]             1,052,672\n",
       "│    │    └─Linear: 3-2                  [1, 574, 256]             131,328\n",
       "│    └─BidirectionalLSTM: 2-18           [1, 574, 256]             --\n",
       "│    │    └─LSTM: 3-3                    [1, 574, 512]             1,052,672\n",
       "│    │    └─Linear: 3-4                  [1, 574, 256]             131,328\n",
       "├─Linear: 1-13                           [1, 574, 128]             32,896\n",
       "├─RSUnit1D: 1-14                         --                        (recursive)\n",
       "│    └─LeakyReLU: 2-19                   [1, 574, 128]             --\n",
       "├─Linear: 1-15                           [1, 574, 60]              7,740\n",
       "==========================================================================================\n",
       "Total params: 2,853,436\n",
       "Trainable params: 2,853,436\n",
       "Non-trainable params: 0\n",
       "Total mult-adds (Units.GIGABYTES): 1.41\n",
       "==========================================================================================\n",
       "Input size (MB): 0.10\n",
       "Forward/backward pass size (MB): 17.32\n",
       "Params size (MB): 11.02\n",
       "Estimated Total Size (MB): 28.44\n",
       "=========================================================================================="
      ]
     },
     "execution_count": 117,
     "metadata": {},
     "output_type": "execute_result"
    }
   ],
   "source": [
    "summary(model, input_size=(1, 42, 574))"
   ]
  },
  {
   "cell_type": "code",
   "execution_count": 37,
   "metadata": {},
   "outputs": [],
   "source": [
    "x = torch.rand(1, 42, 574)\n",
    "output = model(x)"
   ]
  },
  {
   "cell_type": "code",
   "execution_count": 25,
   "metadata": {},
   "outputs": [
    {
     "data": {
      "text/plain": [
       "tensor(7.9750e-08, grad_fn=<MeanBackward0>)"
      ]
     },
     "execution_count": 25,
     "metadata": {},
     "output_type": "execute_result"
    }
   ],
   "source": [
    "output[0, 0, :].mean()"
   ]
  },
  {
   "cell_type": "code",
   "execution_count": 87,
   "metadata": {},
   "outputs": [
    {
     "data": {
      "text/plain": [
       "LRUnit1D(\n",
       "  (layer0): Linear(in_features=128, out_features=128, bias=False)\n",
       "  (bn0): BatchNorm1d(128, eps=1e-05, momentum=0.1, affine=True, track_running_stats=True)\n",
       "  (layer1): Linear(in_features=128, out_features=128, bias=False)\n",
       "  (bn1): BatchNorm1d(128, eps=1e-05, momentum=0.1, affine=True, track_running_stats=True)\n",
       "  (actf): ReLU()\n",
       ")"
      ]
     },
     "execution_count": 87,
     "metadata": {},
     "output_type": "execute_result"
    }
   ],
   "source": [
    "fc = LRUnit1D(128)\n",
    "fc"
   ]
  },
  {
   "cell_type": "code",
   "execution_count": 101,
   "metadata": {},
   "outputs": [
    {
     "name": "stdout",
     "output_type": "stream",
     "text": [
      "torch.Size([1, 574, 128])\n"
     ]
    },
    {
     "ename": "RuntimeError",
     "evalue": "running_mean should contain 574 elements not 128",
     "output_type": "error",
     "traceback": [
      "\u001b[0;31m---------------------------------------------------------------------------\u001b[0m",
      "\u001b[0;31mRuntimeError\u001b[0m                              Traceback (most recent call last)",
      "Cell \u001b[0;32mIn[101], line 20\u001b[0m\n\u001b[1;32m     18\u001b[0m x \u001b[39m=\u001b[39m torch\u001b[39m.\u001b[39mrand(\u001b[39m1\u001b[39m, \u001b[39m574\u001b[39m, \u001b[39m128\u001b[39m)\n\u001b[1;32m     19\u001b[0m fc \u001b[39m=\u001b[39m LRUnit1D_test(\u001b[39m128\u001b[39m)\n\u001b[0;32m---> 20\u001b[0m output \u001b[39m=\u001b[39m fc(x)\n",
      "File \u001b[0;32m~/.local/share/virtualenvs/asl2-dTG6GXgB/lib/python3.11/site-packages/torch/nn/modules/module.py:1501\u001b[0m, in \u001b[0;36mModule._call_impl\u001b[0;34m(self, *args, **kwargs)\u001b[0m\n\u001b[1;32m   1496\u001b[0m \u001b[39m# If we don't have any hooks, we want to skip the rest of the logic in\u001b[39;00m\n\u001b[1;32m   1497\u001b[0m \u001b[39m# this function, and just call forward.\u001b[39;00m\n\u001b[1;32m   1498\u001b[0m \u001b[39mif\u001b[39;00m \u001b[39mnot\u001b[39;00m (\u001b[39mself\u001b[39m\u001b[39m.\u001b[39m_backward_hooks \u001b[39mor\u001b[39;00m \u001b[39mself\u001b[39m\u001b[39m.\u001b[39m_backward_pre_hooks \u001b[39mor\u001b[39;00m \u001b[39mself\u001b[39m\u001b[39m.\u001b[39m_forward_hooks \u001b[39mor\u001b[39;00m \u001b[39mself\u001b[39m\u001b[39m.\u001b[39m_forward_pre_hooks\n\u001b[1;32m   1499\u001b[0m         \u001b[39mor\u001b[39;00m _global_backward_pre_hooks \u001b[39mor\u001b[39;00m _global_backward_hooks\n\u001b[1;32m   1500\u001b[0m         \u001b[39mor\u001b[39;00m _global_forward_hooks \u001b[39mor\u001b[39;00m _global_forward_pre_hooks):\n\u001b[0;32m-> 1501\u001b[0m     \u001b[39mreturn\u001b[39;00m forward_call(\u001b[39m*\u001b[39;49margs, \u001b[39m*\u001b[39;49m\u001b[39m*\u001b[39;49mkwargs)\n\u001b[1;32m   1502\u001b[0m \u001b[39m# Do not call functions when jit is used\u001b[39;00m\n\u001b[1;32m   1503\u001b[0m full_backward_hooks, non_full_backward_hooks \u001b[39m=\u001b[39m [], []\n",
      "Cell \u001b[0;32mIn[101], line 15\u001b[0m, in \u001b[0;36mLRUnit1D_test.forward\u001b[0;34m(self, x)\u001b[0m\n\u001b[1;32m     13\u001b[0m x \u001b[39m=\u001b[39m \u001b[39mself\u001b[39m\u001b[39m.\u001b[39mlayer0(x)\n\u001b[1;32m     14\u001b[0m \u001b[39mprint\u001b[39m(x\u001b[39m.\u001b[39mshape)\n\u001b[0;32m---> 15\u001b[0m x \u001b[39m=\u001b[39m \u001b[39mself\u001b[39;49m\u001b[39m.\u001b[39;49mbn0(x)\n\u001b[1;32m     16\u001b[0m \u001b[39mreturn\u001b[39;00m x\n",
      "File \u001b[0;32m~/.local/share/virtualenvs/asl2-dTG6GXgB/lib/python3.11/site-packages/torch/nn/modules/module.py:1501\u001b[0m, in \u001b[0;36mModule._call_impl\u001b[0;34m(self, *args, **kwargs)\u001b[0m\n\u001b[1;32m   1496\u001b[0m \u001b[39m# If we don't have any hooks, we want to skip the rest of the logic in\u001b[39;00m\n\u001b[1;32m   1497\u001b[0m \u001b[39m# this function, and just call forward.\u001b[39;00m\n\u001b[1;32m   1498\u001b[0m \u001b[39mif\u001b[39;00m \u001b[39mnot\u001b[39;00m (\u001b[39mself\u001b[39m\u001b[39m.\u001b[39m_backward_hooks \u001b[39mor\u001b[39;00m \u001b[39mself\u001b[39m\u001b[39m.\u001b[39m_backward_pre_hooks \u001b[39mor\u001b[39;00m \u001b[39mself\u001b[39m\u001b[39m.\u001b[39m_forward_hooks \u001b[39mor\u001b[39;00m \u001b[39mself\u001b[39m\u001b[39m.\u001b[39m_forward_pre_hooks\n\u001b[1;32m   1499\u001b[0m         \u001b[39mor\u001b[39;00m _global_backward_pre_hooks \u001b[39mor\u001b[39;00m _global_backward_hooks\n\u001b[1;32m   1500\u001b[0m         \u001b[39mor\u001b[39;00m _global_forward_hooks \u001b[39mor\u001b[39;00m _global_forward_pre_hooks):\n\u001b[0;32m-> 1501\u001b[0m     \u001b[39mreturn\u001b[39;00m forward_call(\u001b[39m*\u001b[39;49margs, \u001b[39m*\u001b[39;49m\u001b[39m*\u001b[39;49mkwargs)\n\u001b[1;32m   1502\u001b[0m \u001b[39m# Do not call functions when jit is used\u001b[39;00m\n\u001b[1;32m   1503\u001b[0m full_backward_hooks, non_full_backward_hooks \u001b[39m=\u001b[39m [], []\n",
      "File \u001b[0;32m~/.local/share/virtualenvs/asl2-dTG6GXgB/lib/python3.11/site-packages/torch/nn/modules/batchnorm.py:171\u001b[0m, in \u001b[0;36m_BatchNorm.forward\u001b[0;34m(self, input)\u001b[0m\n\u001b[1;32m    164\u001b[0m     bn_training \u001b[39m=\u001b[39m (\u001b[39mself\u001b[39m\u001b[39m.\u001b[39mrunning_mean \u001b[39mis\u001b[39;00m \u001b[39mNone\u001b[39;00m) \u001b[39mand\u001b[39;00m (\u001b[39mself\u001b[39m\u001b[39m.\u001b[39mrunning_var \u001b[39mis\u001b[39;00m \u001b[39mNone\u001b[39;00m)\n\u001b[1;32m    166\u001b[0m \u001b[39m\u001b[39m\u001b[39mr\u001b[39m\u001b[39m\"\"\"\u001b[39;00m\n\u001b[1;32m    167\u001b[0m \u001b[39mBuffers are only updated if they are to be tracked and we are in training mode. Thus they only need to be\u001b[39;00m\n\u001b[1;32m    168\u001b[0m \u001b[39mpassed when the update should occur (i.e. in training mode when they are tracked), or when buffer stats are\u001b[39;00m\n\u001b[1;32m    169\u001b[0m \u001b[39mused for normalization (i.e. in eval mode when buffers are not None).\u001b[39;00m\n\u001b[1;32m    170\u001b[0m \u001b[39m\"\"\"\u001b[39;00m\n\u001b[0;32m--> 171\u001b[0m \u001b[39mreturn\u001b[39;00m F\u001b[39m.\u001b[39;49mbatch_norm(\n\u001b[1;32m    172\u001b[0m     \u001b[39minput\u001b[39;49m,\n\u001b[1;32m    173\u001b[0m     \u001b[39m# If buffers are not to be tracked, ensure that they won't be updated\u001b[39;49;00m\n\u001b[1;32m    174\u001b[0m     \u001b[39mself\u001b[39;49m\u001b[39m.\u001b[39;49mrunning_mean\n\u001b[1;32m    175\u001b[0m     \u001b[39mif\u001b[39;49;00m \u001b[39mnot\u001b[39;49;00m \u001b[39mself\u001b[39;49m\u001b[39m.\u001b[39;49mtraining \u001b[39mor\u001b[39;49;00m \u001b[39mself\u001b[39;49m\u001b[39m.\u001b[39;49mtrack_running_stats\n\u001b[1;32m    176\u001b[0m     \u001b[39melse\u001b[39;49;00m \u001b[39mNone\u001b[39;49;00m,\n\u001b[1;32m    177\u001b[0m     \u001b[39mself\u001b[39;49m\u001b[39m.\u001b[39;49mrunning_var \u001b[39mif\u001b[39;49;00m \u001b[39mnot\u001b[39;49;00m \u001b[39mself\u001b[39;49m\u001b[39m.\u001b[39;49mtraining \u001b[39mor\u001b[39;49;00m \u001b[39mself\u001b[39;49m\u001b[39m.\u001b[39;49mtrack_running_stats \u001b[39melse\u001b[39;49;00m \u001b[39mNone\u001b[39;49;00m,\n\u001b[1;32m    178\u001b[0m     \u001b[39mself\u001b[39;49m\u001b[39m.\u001b[39;49mweight,\n\u001b[1;32m    179\u001b[0m     \u001b[39mself\u001b[39;49m\u001b[39m.\u001b[39;49mbias,\n\u001b[1;32m    180\u001b[0m     bn_training,\n\u001b[1;32m    181\u001b[0m     exponential_average_factor,\n\u001b[1;32m    182\u001b[0m     \u001b[39mself\u001b[39;49m\u001b[39m.\u001b[39;49meps,\n\u001b[1;32m    183\u001b[0m )\n",
      "File \u001b[0;32m~/.local/share/virtualenvs/asl2-dTG6GXgB/lib/python3.11/site-packages/torch/nn/functional.py:2450\u001b[0m, in \u001b[0;36mbatch_norm\u001b[0;34m(input, running_mean, running_var, weight, bias, training, momentum, eps)\u001b[0m\n\u001b[1;32m   2447\u001b[0m \u001b[39mif\u001b[39;00m training:\n\u001b[1;32m   2448\u001b[0m     _verify_batch_size(\u001b[39minput\u001b[39m\u001b[39m.\u001b[39msize())\n\u001b[0;32m-> 2450\u001b[0m \u001b[39mreturn\u001b[39;00m torch\u001b[39m.\u001b[39;49mbatch_norm(\n\u001b[1;32m   2451\u001b[0m     \u001b[39minput\u001b[39;49m, weight, bias, running_mean, running_var, training, momentum, eps, torch\u001b[39m.\u001b[39;49mbackends\u001b[39m.\u001b[39;49mcudnn\u001b[39m.\u001b[39;49menabled\n\u001b[1;32m   2452\u001b[0m )\n",
      "\u001b[0;31mRuntimeError\u001b[0m: running_mean should contain 574 elements not 128"
     ]
    }
   ],
   "source": [
    "class LRUnit1D_test(nn.Module):\n",
    "    def __init__(self, in_dim, actf=torch.nn.ReLU()):\n",
    "        super(LRUnit1D_test, self).__init__()\n",
    "        self.layer0 = nn.Linear(in_dim, in_dim, bias=False)\n",
    "        self.bn0 = nn.BatchNorm1d(in_dim)\n",
    "        self.layer1 = nn.Linear(in_dim, in_dim, bias=False)\n",
    "        self.bn1 = nn.BatchNorm1d(in_dim)\n",
    "        self.actf = actf\n",
    "\n",
    "    def forward(self, x):\n",
    "        # h = self.actf(self.bn0(self.layer0(x)))\n",
    "        # h = self.bn1(self.layer1(h))\n",
    "        x = self.layer0(x)\n",
    "        print(x.shape)\n",
    "        x = self.bn0(x)\n",
    "        return x\n",
    "\n",
    "x = torch.rand(1, 574, 128)\n",
    "fc = LRUnit1D_test(128)\n",
    "output = fc(x)"
   ]
  },
  {
   "cell_type": "code",
   "execution_count": 102,
   "metadata": {},
   "outputs": [
    {
     "ename": "AttributeError",
     "evalue": "'LRUnit1D_test' object has no attribute 'weight'",
     "output_type": "error",
     "traceback": [
      "\u001b[0;31m---------------------------------------------------------------------------\u001b[0m",
      "\u001b[0;31mAttributeError\u001b[0m                            Traceback (most recent call last)",
      "Cell \u001b[0;32mIn[102], line 1\u001b[0m\n\u001b[0;32m----> 1\u001b[0m fc\u001b[39m.\u001b[39;49mweight\u001b[39m.\u001b[39mshape\n",
      "File \u001b[0;32m~/.local/share/virtualenvs/asl2-dTG6GXgB/lib/python3.11/site-packages/torch/nn/modules/module.py:1614\u001b[0m, in \u001b[0;36mModule.__getattr__\u001b[0;34m(self, name)\u001b[0m\n\u001b[1;32m   1612\u001b[0m     \u001b[39mif\u001b[39;00m name \u001b[39min\u001b[39;00m modules:\n\u001b[1;32m   1613\u001b[0m         \u001b[39mreturn\u001b[39;00m modules[name]\n\u001b[0;32m-> 1614\u001b[0m \u001b[39mraise\u001b[39;00m \u001b[39mAttributeError\u001b[39;00m(\u001b[39m\"\u001b[39m\u001b[39m'\u001b[39m\u001b[39m{}\u001b[39;00m\u001b[39m'\u001b[39m\u001b[39m object has no attribute \u001b[39m\u001b[39m'\u001b[39m\u001b[39m{}\u001b[39;00m\u001b[39m'\u001b[39m\u001b[39m\"\u001b[39m\u001b[39m.\u001b[39mformat(\n\u001b[1;32m   1615\u001b[0m     \u001b[39mtype\u001b[39m(\u001b[39mself\u001b[39m)\u001b[39m.\u001b[39m\u001b[39m__name__\u001b[39m, name))\n",
      "\u001b[0;31mAttributeError\u001b[0m: 'LRUnit1D_test' object has no attribute 'weight'"
     ]
    }
   ],
   "source": [
    "fc.weight.shape"
   ]
  },
  {
   "cell_type": "code",
   "execution_count": null,
   "metadata": {},
   "outputs": [],
   "source": []
  }
 ],
 "metadata": {
  "kernelspec": {
   "display_name": "asl2-dTG6GXgB",
   "language": "python",
   "name": "python3"
  },
  "language_info": {
   "codemirror_mode": {
    "name": "ipython",
    "version": 3
   },
   "file_extension": ".py",
   "mimetype": "text/x-python",
   "name": "python",
   "nbconvert_exporter": "python",
   "pygments_lexer": "ipython3",
   "version": "3.11.4"
  },
  "orig_nbformat": 4
 },
 "nbformat": 4,
 "nbformat_minor": 2
}
