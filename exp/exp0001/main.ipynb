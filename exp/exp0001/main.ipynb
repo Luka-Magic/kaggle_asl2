{
 "cells": [
  {
   "cell_type": "code",
   "execution_count": 1,
   "metadata": {},
   "outputs": [],
   "source": [
    "import torch\n",
    "import numpy as np\n",
    "# from transformers import pack_seq, LandmarkEnbedding, PositionalEncoding, Net\n",
    "from transformers import (\n",
    "    EncoderEmbedding,\n",
    "    PositionalEncoding,\n",
    "    LandmarkEnbedding,\n",
    "    Transformer,\n",
    "    DecoderEmbedding\n",
    ")\n",
    "import matplotlib.pyplot as plt"
   ]
  },
  {
   "cell_type": "code",
   "execution_count": 2,
   "metadata": {},
   "outputs": [],
   "source": [
    "# transformer parameters = \n",
    "# (input_size,\n",
    "# vocab_size,\n",
    "# encoder_max_seq_length,\n",
    "# decoder_max_seq_length,\n",
    "# embed_dim,\n",
    "# ffn_hidden,\n",
    "# num_heads,\n",
    "# drop_prob,\n",
    "# num_layers)\n",
    "model = Transformer(input_size=42, vocab_size=62, max_seq_length=256, embed_dim=256, ffn_hidden=1024, num_heads=4, drop_prob=0.1, num_layers=2)"
   ]
  },
  {
   "cell_type": "code",
   "execution_count": 5,
   "metadata": {},
   "outputs": [],
   "source": [
    "x = torch.randn(32, 512, 42)\n",
    "y = torch.randint(0, 62, (32, 512))"
   ]
  },
  {
   "cell_type": "code",
   "execution_count": 9,
   "metadata": {},
   "outputs": [],
   "source": [
    "loss = torch.nn.CrossEntropyLoss()"
   ]
  },
  {
   "cell_type": "code",
   "execution_count": 19,
   "metadata": {},
   "outputs": [],
   "source": [
    "preds = torch.randn(1, 3, 15)\n",
    "targets = torch.randint(0, 3, (1, 15))"
   ]
  },
  {
   "cell_type": "code",
   "execution_count": 20,
   "metadata": {},
   "outputs": [
    {
     "data": {
      "text/plain": [
       "tensor(1.2763)"
      ]
     },
     "execution_count": 20,
     "metadata": {},
     "output_type": "execute_result"
    }
   ],
   "source": [
    "loss(preds, targets)"
   ]
  },
  {
   "cell_type": "code",
   "execution_count": 7,
   "metadata": {},
   "outputs": [
    {
     "data": {
      "text/plain": [
       "torch.Size([32, 512, 62])"
      ]
     },
     "execution_count": 7,
     "metadata": {},
     "output_type": "execute_result"
    }
   ],
   "source": [
    "model(x, y).shape"
   ]
  },
  {
   "cell_type": "code",
   "execution_count": 13,
   "metadata": {},
   "outputs": [],
   "source": [
    "ee = EncoderEmbedding(256, 42, 512)"
   ]
  },
  {
   "cell_type": "code",
   "execution_count": 17,
   "metadata": {},
   "outputs": [],
   "source": [
    "de = DecoderEmbedding(256, 63, 512)"
   ]
  },
  {
   "cell_type": "code",
   "execution_count": 18,
   "metadata": {},
   "outputs": [],
   "source": [
    "enb_enc = ee(x)\n",
    "enb_dec = de(y)"
   ]
  },
  {
   "cell_type": "code",
   "execution_count": 19,
   "metadata": {},
   "outputs": [
    {
     "name": "stdout",
     "output_type": "stream",
     "text": [
      "torch.Size([32, 256, 256])\n",
      "torch.Size([32, 32, 256])\n"
     ]
    }
   ],
   "source": [
    "print(enb_enc.shape)\n",
    "print(enb_dec.shape)"
   ]
  },
  {
   "cell_type": "code",
   "execution_count": 41,
   "metadata": {},
   "outputs": [
    {
     "data": {
      "text/plain": [
       "torch.Size([1, 32, 60])"
      ]
     },
     "execution_count": 41,
     "metadata": {},
     "output_type": "execute_result"
    }
   ],
   "source": [
    "model(x, y).shape"
   ]
  },
  {
   "cell_type": "code",
   "execution_count": 4,
   "metadata": {},
   "outputs": [
    {
     "data": {
      "text/plain": [
       "torch.Size([2, 3, 3])"
      ]
     },
     "execution_count": 4,
     "metadata": {},
     "output_type": "execute_result"
    }
   ],
   "source": [
    "torch.matmul(a, a.transpose(-1, -2)).shape"
   ]
  },
  {
   "cell_type": "code",
   "execution_count": 5,
   "metadata": {},
   "outputs": [],
   "source": [
    "a = torch.randn(2, 3, 4)\n",
    "b = torch.randn(2, 3, 3)"
   ]
  },
  {
   "cell_type": "code",
   "execution_count": 8,
   "metadata": {},
   "outputs": [
    {
     "data": {
      "text/plain": [
       "torch.Size([2, 3, 4])"
      ]
     },
     "execution_count": 8,
     "metadata": {},
     "output_type": "execute_result"
    }
   ],
   "source": [
    "torch.matmul(b, a).shape"
   ]
  },
  {
   "cell_type": "code",
   "execution_count": 7,
   "metadata": {},
   "outputs": [],
   "source": [
    "seq = [\n",
    "    torch.randn((10, 21, 2)),\n",
    "    torch.randn((14, 21, 2)),\n",
    "    torch.randn((18, 21, 2)),\n",
    "    torch.randn((18, 21, 2)),\n",
    "]"
   ]
  },
  {
   "cell_type": "code",
   "execution_count": 6,
   "metadata": {},
   "outputs": [],
   "source": [
    "x, x_mask = pack_seq(seq)"
   ]
  },
  {
   "cell_type": "code",
   "execution_count": 24,
   "metadata": {},
   "outputs": [
    {
     "data": {
      "text/plain": [
       "torch.Size([4, 18, 42])"
      ]
     },
     "execution_count": 24,
     "metadata": {},
     "output_type": "execute_result"
    }
   ],
   "source": [
    "x.shape"
   ]
  },
  {
   "cell_type": "code",
   "execution_count": 25,
   "metadata": {},
   "outputs": [],
   "source": [
    "le = LandmarkEnbedding(42, 128)"
   ]
  },
  {
   "cell_type": "code",
   "execution_count": 26,
   "metadata": {},
   "outputs": [],
   "source": [
    "x_enc = le(x)"
   ]
  },
  {
   "cell_type": "code",
   "execution_count": 10,
   "metadata": {},
   "outputs": [
    {
     "data": {
      "text/plain": [
       "torch.Size([4, 18, 128])"
      ]
     },
     "execution_count": 10,
     "metadata": {},
     "output_type": "execute_result"
    }
   ],
   "source": [
    "x_enc.shape"
   ]
  },
  {
   "cell_type": "code",
   "execution_count": 11,
   "metadata": {},
   "outputs": [],
   "source": [
    "pe = PositionalEncoding(256, 128)"
   ]
  },
  {
   "cell_type": "code",
   "execution_count": 6,
   "metadata": {},
   "outputs": [],
   "source": [
    "dic = {'a': 3, 'b': 2}"
   ]
  },
  {
   "cell_type": "code",
   "execution_count": 8,
   "metadata": {},
   "outputs": [],
   "source": [
    "li = ['a', 'a', 'a', 'b', 'b']"
   ]
  },
  {
   "cell_type": "code",
   "execution_count": 9,
   "metadata": {},
   "outputs": [],
   "source": [
    "# convert element of li by dic\n",
    "li = [dic[i] for i in li]"
   ]
  },
  {
   "cell_type": "code",
   "execution_count": 10,
   "metadata": {},
   "outputs": [],
   "source": [
    "import numpy as np"
   ]
  },
  {
   "cell_type": "code",
   "execution_count": 12,
   "metadata": {},
   "outputs": [],
   "source": [
    "hand = np.random.rand(12, 543, 2)"
   ]
  },
  {
   "cell_type": "code",
   "execution_count": 13,
   "metadata": {},
   "outputs": [],
   "source": [
    "hand[5, 52, 1] = np.nan"
   ]
  },
  {
   "cell_type": "code",
   "execution_count": 2,
   "metadata": {},
   "outputs": [],
   "source": [
    "class cfg:\n",
    "    max_length = 256"
   ]
  },
  {
   "cell_type": "code",
   "execution_count": 5,
   "metadata": {},
   "outputs": [],
   "source": [
    "model = Net(cfg)"
   ]
  },
  {
   "cell_type": "code",
   "execution_count": 9,
   "metadata": {},
   "outputs": [
    {
     "data": {
      "text/plain": [
       "torch.Size([4, 18, 128])"
      ]
     },
     "execution_count": 9,
     "metadata": {},
     "output_type": "execute_result"
    }
   ],
   "source": [
    "batch = {'xyz': seq}\n",
    "model(batch).shape"
   ]
  },
  {
   "cell_type": "code",
   "execution_count": 17,
   "metadata": {},
   "outputs": [],
   "source": [
    "# delete nan frame\n",
    "not_nan_frame = ~np.isnan(np.mean(hand, axis=(1, 2)))\n",
    "hand = hand[not_nan_frame]"
   ]
  },
  {
   "cell_type": "code",
   "execution_count": 19,
   "metadata": {},
   "outputs": [
    {
     "data": {
      "text/plain": [
       "(11, 543, 2)"
      ]
     },
     "execution_count": 19,
     "metadata": {},
     "output_type": "execute_result"
    }
   ],
   "source": [
    "hand.shape"
   ]
  },
  {
   "cell_type": "code",
   "execution_count": 3,
   "metadata": {},
   "outputs": [],
   "source": [
    "from torchinfo import summary"
   ]
  },
  {
   "cell_type": "code",
   "execution_count": 64,
   "metadata": {},
   "outputs": [],
   "source": [
    "import math\n",
    "import torch\n",
    "from torch import nn\n",
    "from torch.nn import functional as F\n",
    "\n",
    "\n",
    "class BidirectionalLSTM(nn.Module):\n",
    "\n",
    "    def __init__(self, input_size, hidden_size, output_size):\n",
    "        super(BidirectionalLSTM, self).__init__()\n",
    "        self.rnn = nn.LSTM(input_size, hidden_size,\n",
    "                           bidirectional=True, batch_first=True)\n",
    "        self.linear = nn.Linear(hidden_size * 2, output_size)\n",
    "\n",
    "    def forward(self, input):\n",
    "        \"\"\"\n",
    "        input : visual feature [batch_size x T x input_size]\n",
    "        output : contextual feature [batch_size x T x output_size]\n",
    "        \"\"\"\n",
    "        self.rnn.flatten_parameters()\n",
    "        # batch_size x T x input_size -> batch_size x T x (2*hidden_size)\n",
    "        recurrent, _ = self.rnn(input)\n",
    "        output = self.linear(recurrent)  # batch_size x T x output_size\n",
    "        return output\n",
    "\n",
    "\n",
    "class RSUnit1D(nn.Module):\n",
    "    def __init__(self, in_dim, kernel_size=3, padding=1,\n",
    "                 padding_mode='zeros', actf=torch.nn.ReLU()):\n",
    "        super(RSUnit1D, self).__init__()\n",
    "        self.layer0 = nn.Conv1d(in_dim, in_dim, kernel_size=kernel_size,\n",
    "                                padding=padding, padding_mode=padding_mode, bias=False)\n",
    "        self.bn0 = nn.BatchNorm1d(in_dim)\n",
    "        self.layer1 = nn.Conv1d(in_dim, in_dim, kernel_size=kernel_size,\n",
    "                                padding=padding, padding_mode=padding_mode, bias=False)\n",
    "        self.bn1 = nn.BatchNorm1d(in_dim)\n",
    "        self.actf = actf\n",
    "\n",
    "    def forward(self, x):\n",
    "        h = self.actf(self.bn0(self.layer0(x)))\n",
    "        h = self.bn1(self.layer1(h))\n",
    "        return x + h\n",
    "\n",
    "\n",
    "class Model(nn.Module):\n",
    "    def __init__(self, seq_len, n_features, n_class):\n",
    "        super(Model, self).__init__()\n",
    "        # self.actf = torch.nn.LeakyReLU(negative_slope=0.1)\n",
    "        self.actf = nn.ReLU()\n",
    "        self.conv1 = nn.Conv1d(n_features, 128, 3, padding=1)\n",
    "        self.bn1 = nn.BatchNorm1d(128)  # 各landmarkでmean,std=0,1にする\n",
    "        self.conv2 = RSUnit1D(128, 3, padding=1)\n",
    "        self.conv3 = RSUnit1D(128, 3, padding=1)\n",
    "        self.conv4 = RSUnit1D(128, 3, padding=1)\n",
    "        self.conv5 = nn.Conv1d(\n",
    "            128, 256, kernel_size=1, padding=0, bias=True)\n",
    "        self.sequence_models = nn.Sequential(\n",
    "            BidirectionalLSTM(256, 256, 256),\n",
    "            BidirectionalLSTM(256, 256, 256),\n",
    "        )\n",
    "        self.fc = nn.Linear(256, n_class)\n",
    "\n",
    "    def forward(self, x):\n",
    "        '''\n",
    "            input: (bs, 42, 576)\n",
    "            output: (bs, 576(seq_len), 59(n_classes))\n",
    "        '''\n",
    "        # x = self.bn0(x)\n",
    "        x = self.actf(self.bn1(self.conv1(x)))\n",
    "        x = self.conv2(x)\n",
    "        x = self.conv3(x)\n",
    "        x = self.conv4(x)\n",
    "        x = self.conv5(x)  # (bs, 256, 576)\n",
    "        x = x.permute(0, 2, 1)  # (bs, 576, 256) B T C\n",
    "        x = self.sequence_models(x)\n",
    "        x = self.fc(x)  # (bs, 576, 60)\n",
    "        return x"
   ]
  },
  {
   "cell_type": "code",
   "execution_count": 65,
   "metadata": {},
   "outputs": [
    {
     "data": {
      "text/plain": [
       "==========================================================================================\n",
       "Layer (type:depth-idx)                   Output Shape              Param #\n",
       "==========================================================================================\n",
       "Model                                    [1, 576, 60]              --\n",
       "├─Conv1d: 1-1                            [1, 128, 576]             16,256\n",
       "├─BatchNorm1d: 1-2                       [1, 128, 576]             256\n",
       "├─ReLU: 1-3                              [1, 128, 576]             --\n",
       "├─RSUnit1D: 1-4                          [1, 128, 576]             49,408\n",
       "│    └─Conv1d: 2-1                       [1, 128, 576]             49,152\n",
       "│    └─BatchNorm1d: 2-2                  [1, 128, 576]             256\n",
       "├─RSUnit1D: 1-8                          --                        (recursive)\n",
       "│    └─ReLU: 2-3                         [1, 128, 576]             --\n",
       "├─RSUnit1D: 1-6                          --                        (recursive)\n",
       "│    └─Conv1d: 2-4                       [1, 128, 576]             49,152\n",
       "│    └─BatchNorm1d: 2-5                  [1, 128, 576]             256\n",
       "├─RSUnit1D: 1-7                          [1, 128, 576]             49,408\n",
       "│    └─Conv1d: 2-6                       [1, 128, 576]             49,152\n",
       "│    └─BatchNorm1d: 2-7                  [1, 128, 576]             256\n",
       "├─RSUnit1D: 1-8                          --                        (recursive)\n",
       "│    └─ReLU: 2-8                         [1, 128, 576]             --\n",
       "├─RSUnit1D: 1-9                          --                        (recursive)\n",
       "│    └─Conv1d: 2-9                       [1, 128, 576]             49,152\n",
       "│    └─BatchNorm1d: 2-10                 [1, 128, 576]             256\n",
       "├─RSUnit1D: 1-10                         [1, 128, 576]             --\n",
       "│    └─Conv1d: 2-11                      [1, 128, 576]             49,152\n",
       "│    └─BatchNorm1d: 2-12                 [1, 128, 576]             256\n",
       "│    └─ReLU: 2-13                        [1, 128, 576]             --\n",
       "│    └─Conv1d: 2-14                      [1, 128, 576]             49,152\n",
       "│    └─BatchNorm1d: 2-15                 [1, 128, 576]             256\n",
       "├─Conv1d: 1-11                           [1, 256, 576]             33,024\n",
       "├─Sequential: 1-12                       [1, 576, 256]             --\n",
       "│    └─BidirectionalLSTM: 2-16           [1, 576, 256]             --\n",
       "│    │    └─LSTM: 3-1                    [1, 576, 512]             1,052,672\n",
       "│    │    └─Linear: 3-2                  [1, 576, 256]             131,328\n",
       "│    └─BidirectionalLSTM: 2-17           [1, 576, 256]             --\n",
       "│    │    └─LSTM: 3-3                    [1, 576, 512]             1,052,672\n",
       "│    │    └─Linear: 3-4                  [1, 576, 256]             131,328\n",
       "├─Linear: 1-13                           [1, 576, 60]              15,420\n",
       "==========================================================================================\n",
       "Total params: 2,828,220\n",
       "Trainable params: 2,828,220\n",
       "Non-trainable params: 0\n",
       "Total mult-adds (Units.GIGABYTES): 1.41\n",
       "==========================================================================================\n",
       "Input size (MB): 0.10\n",
       "Forward/backward pass size (MB): 16.79\n",
       "Params size (MB): 10.92\n",
       "Estimated Total Size (MB): 27.81\n",
       "=========================================================================================="
      ]
     },
     "execution_count": 65,
     "metadata": {},
     "output_type": "execute_result"
    }
   ],
   "source": [
    "model = Model(576, 42, 60)\n",
    "\n",
    "summary(\n",
    "    model,\n",
    "    input_size=((1, 42, 576))\n",
    ")"
   ]
  },
  {
   "cell_type": "code",
   "execution_count": 2,
   "metadata": {},
   "outputs": [],
   "source": [
    "import torch\n",
    "import torch.nn as nn\n",
    "import torch.nn.functional as F"
   ]
  },
  {
   "cell_type": "code",
   "execution_count": 138,
   "metadata": {},
   "outputs": [],
   "source": [
    "import math\n",
    "import torch\n",
    "from torch import nn\n",
    "from torch.nn import functional as F\n",
    "\n",
    "\n",
    "class BidirectionalLSTM(nn.Module):\n",
    "\n",
    "    def __init__(self, input_size, hidden_size, output_size):\n",
    "        super(BidirectionalLSTM, self).__init__()\n",
    "        self.rnn = nn.LSTM(input_size, hidden_size,\n",
    "                           bidirectional=True, batch_first=True)\n",
    "        self.linear = nn.Linear(hidden_size * 2, output_size)\n",
    "\n",
    "    def forward(self, input):\n",
    "        \"\"\"\n",
    "        input : visual feature [batch_size x T x input_size]\n",
    "        output : contextual feature [batch_size x T x output_size]\n",
    "        \"\"\"\n",
    "        self.rnn.flatten_parameters()\n",
    "        # batch_size x T x input_size -> batch_size x T x (2*hidden_size)\n",
    "        recurrent, _ = self.rnn(input)\n",
    "        output = self.linear(recurrent)  # batch_size x T x output_size\n",
    "        return output\n",
    "\n",
    "\n",
    "class LRUnit1D(nn.Module):\n",
    "    def __init__(self, in_dim, actf=torch.nn.ReLU()):\n",
    "        super(LRUnit1D, self).__init__()\n",
    "        self.layer0 = nn.Linear(in_dim, in_dim, bias=False)\n",
    "        self.bn0 = nn.BatchNorm1d(in_dim)\n",
    "        self.layer1 = nn.Linear(in_dim, in_dim, bias=False)\n",
    "        self.bn1 = nn.BatchNorm1d(in_dim)\n",
    "        self.actf = actf\n",
    "\n",
    "    def forward(self, x):\n",
    "        h = self.actf(self.bn0(self.layer0(x)))\n",
    "        h = self.bn1(self.layer1(h))\n",
    "        return x + h\n",
    "\n",
    "\n",
    "class RSUnit1D(nn.Module):\n",
    "    def __init__(self, in_dim, kernel_size=3, padding=1,\n",
    "                 padding_mode='zeros', actf=torch.nn.ReLU()):\n",
    "        super(RSUnit1D, self).__init__()\n",
    "        self.layer0 = nn.Conv1d(in_dim, in_dim, kernel_size=kernel_size,\n",
    "                                padding=padding, padding_mode=padding_mode, bias=False)\n",
    "        self.bn0 = nn.BatchNorm1d(in_dim)\n",
    "        self.layer1 = nn.Conv1d(in_dim, in_dim, kernel_size=kernel_size,\n",
    "                                padding=padding, padding_mode=padding_mode, bias=False)\n",
    "        self.bn1 = nn.BatchNorm1d(in_dim)\n",
    "        self.actf = actf\n",
    "\n",
    "    def forward(self, x):\n",
    "        h = self.actf(self.bn0(self.layer0(x)))\n",
    "        h = self.bn1(self.layer1(h))\n",
    "        return x + h\n",
    "\n",
    "\n",
    "class Model(nn.Module):\n",
    "    def __init__(self, seq_len, n_features, n_class):\n",
    "        super(Model, self).__init__()\n",
    "        self.actf = nn.LeakyReLU(negative_slope=0.1)\n",
    "        # self.bn0 = nn.BatchNorm1d(n_features)  # 各landmarkでmean,std=0,1にする\n",
    "        self.conv1 = nn.Conv1d(n_features, 128, 3, padding=1)\n",
    "        self.bn1 = nn.BatchNorm1d(128)  # 各landmarkでmean,std=0,1にする\n",
    "        self.conv2 = RSUnit1D(128, 3, padding=1, actf=self.actf)\n",
    "        self.conv3 = RSUnit1D(128, 3, padding=1, actf=self.actf)\n",
    "        self.conv4 = RSUnit1D(128, 3, padding=1, actf=self.actf)\n",
    "        self.conv5 = nn.Conv1d(\n",
    "            128, 256, kernel_size=1, padding=0, bias=True)\n",
    "        self.sequence_models = nn.Sequential(\n",
    "            BidirectionalLSTM(256, 256, 256),\n",
    "            BidirectionalLSTM(256, 256, 256),\n",
    "        )\n",
    "        self.linear0 = nn.Linear(256, 128)\n",
    "        self.fc = nn.Linear(128, n_class)\n",
    "\n",
    "    def forward(self, x):\n",
    "        '''\n",
    "            input: (bs, 42, 576)\n",
    "            output: (bs, 576(seq_len), 59(n_classes))\n",
    "        '''\n",
    "        x = self.actf(self.bn1(self.conv1(x)))\n",
    "        x = self.conv2(x)\n",
    "        x = self.conv3(x)\n",
    "        x = self.conv4(x)\n",
    "        x = self.conv5(x)  # (bs, 256, 576)\n",
    "        x = x.permute(0, 2, 1)  # (bs, 576, 256) B T C\n",
    "        # x = self.sequence_models(x)\n",
    "        x = self.linear0(x)\n",
    "        x = self.actf(x)\n",
    "        x = self.fc(x)\n",
    "        return x"
   ]
  },
  {
   "cell_type": "code",
   "execution_count": 139,
   "metadata": {},
   "outputs": [],
   "source": [
    "model = Model(574, 42, 60)"
   ]
  },
  {
   "cell_type": "code",
   "execution_count": 140,
   "metadata": {},
   "outputs": [
    {
     "data": {
      "text/plain": [
       "==========================================================================================\n",
       "Layer (type:depth-idx)                   Output Shape              Param #\n",
       "==========================================================================================\n",
       "Model                                    [1, 574, 60]              2,269,184\n",
       "├─Conv1d: 1-1                            [1, 128, 574]             16,256\n",
       "├─BatchNorm1d: 1-2                       [1, 128, 574]             256\n",
       "├─RSUnit1D: 1-13                         --                        (recursive)\n",
       "│    └─LeakyReLU: 2-1                    [1, 128, 574]             --\n",
       "├─RSUnit1D: 1-4                          [1, 128, 574]             49,408\n",
       "│    └─Conv1d: 2-2                       [1, 128, 574]             49,152\n",
       "│    └─BatchNorm1d: 2-3                  [1, 128, 574]             256\n",
       "├─RSUnit1D: 1-13                         --                        (recursive)\n",
       "│    └─LeakyReLU: 2-4                    [1, 128, 574]             --\n",
       "├─RSUnit1D: 1-6                          --                        (recursive)\n",
       "│    └─Conv1d: 2-5                       [1, 128, 574]             49,152\n",
       "│    └─BatchNorm1d: 2-6                  [1, 128, 574]             256\n",
       "├─RSUnit1D: 1-7                          [1, 128, 574]             49,408\n",
       "│    └─Conv1d: 2-7                       [1, 128, 574]             49,152\n",
       "│    └─BatchNorm1d: 2-8                  [1, 128, 574]             256\n",
       "├─RSUnit1D: 1-13                         --                        (recursive)\n",
       "│    └─LeakyReLU: 2-9                    [1, 128, 574]             --\n",
       "├─RSUnit1D: 1-9                          --                        (recursive)\n",
       "│    └─Conv1d: 2-10                      [1, 128, 574]             49,152\n",
       "│    └─BatchNorm1d: 2-11                 [1, 128, 574]             256\n",
       "├─RSUnit1D: 1-10                         [1, 128, 574]             --\n",
       "│    └─Conv1d: 2-12                      [1, 128, 574]             49,152\n",
       "│    └─BatchNorm1d: 2-13                 [1, 128, 574]             256\n",
       "│    └─LeakyReLU: 2-14                   [1, 128, 574]             --\n",
       "│    └─Conv1d: 2-15                      [1, 128, 574]             49,152\n",
       "│    └─BatchNorm1d: 2-16                 [1, 128, 574]             256\n",
       "├─Conv1d: 1-11                           [1, 256, 574]             33,024\n",
       "├─Linear: 1-12                           [1, 574, 128]             32,896\n",
       "├─RSUnit1D: 1-13                         --                        (recursive)\n",
       "│    └─LeakyReLU: 2-17                   [1, 574, 128]             --\n",
       "├─Linear: 1-14                           [1, 574, 60]              7,740\n",
       "==========================================================================================\n",
       "Total params: 2,754,620\n",
       "Trainable params: 2,754,620\n",
       "Non-trainable params: 0\n",
       "Total mult-adds (Units.MEGABYTES): 197.61\n",
       "==========================================================================================\n",
       "Input size (MB): 0.10\n",
       "Forward/backward pass size (MB): 10.27\n",
       "Params size (MB): 1.55\n",
       "Estimated Total Size (MB): 11.91\n",
       "=========================================================================================="
      ]
     },
     "execution_count": 140,
     "metadata": {},
     "output_type": "execute_result"
    }
   ],
   "source": [
    "summary(model, input_size=(1, 42, 574))"
   ]
  },
  {
   "cell_type": "code",
   "execution_count": 37,
   "metadata": {},
   "outputs": [],
   "source": [
    "x = torch.rand(1, 42, 574)\n",
    "output = model(x)"
   ]
  },
  {
   "cell_type": "code",
   "execution_count": 25,
   "metadata": {},
   "outputs": [
    {
     "data": {
      "text/plain": [
       "tensor(7.9750e-08, grad_fn=<MeanBackward0>)"
      ]
     },
     "execution_count": 25,
     "metadata": {},
     "output_type": "execute_result"
    }
   ],
   "source": [
    "output[0, 0, :].mean()"
   ]
  },
  {
   "cell_type": "code",
   "execution_count": 87,
   "metadata": {},
   "outputs": [
    {
     "data": {
      "text/plain": [
       "LRUnit1D(\n",
       "  (layer0): Linear(in_features=128, out_features=128, bias=False)\n",
       "  (bn0): BatchNorm1d(128, eps=1e-05, momentum=0.1, affine=True, track_running_stats=True)\n",
       "  (layer1): Linear(in_features=128, out_features=128, bias=False)\n",
       "  (bn1): BatchNorm1d(128, eps=1e-05, momentum=0.1, affine=True, track_running_stats=True)\n",
       "  (actf): ReLU()\n",
       ")"
      ]
     },
     "execution_count": 87,
     "metadata": {},
     "output_type": "execute_result"
    }
   ],
   "source": [
    "fc = LRUnit1D(128)\n",
    "fc"
   ]
  },
  {
   "cell_type": "code",
   "execution_count": 101,
   "metadata": {},
   "outputs": [
    {
     "name": "stdout",
     "output_type": "stream",
     "text": [
      "torch.Size([1, 574, 128])\n"
     ]
    },
    {
     "ename": "RuntimeError",
     "evalue": "running_mean should contain 574 elements not 128",
     "output_type": "error",
     "traceback": [
      "\u001b[0;31m---------------------------------------------------------------------------\u001b[0m",
      "\u001b[0;31mRuntimeError\u001b[0m                              Traceback (most recent call last)",
      "Cell \u001b[0;32mIn[101], line 20\u001b[0m\n\u001b[1;32m     18\u001b[0m x \u001b[39m=\u001b[39m torch\u001b[39m.\u001b[39mrand(\u001b[39m1\u001b[39m, \u001b[39m574\u001b[39m, \u001b[39m128\u001b[39m)\n\u001b[1;32m     19\u001b[0m fc \u001b[39m=\u001b[39m LRUnit1D_test(\u001b[39m128\u001b[39m)\n\u001b[0;32m---> 20\u001b[0m output \u001b[39m=\u001b[39m fc(x)\n",
      "File \u001b[0;32m~/.local/share/virtualenvs/asl2-dTG6GXgB/lib/python3.11/site-packages/torch/nn/modules/module.py:1501\u001b[0m, in \u001b[0;36mModule._call_impl\u001b[0;34m(self, *args, **kwargs)\u001b[0m\n\u001b[1;32m   1496\u001b[0m \u001b[39m# If we don't have any hooks, we want to skip the rest of the logic in\u001b[39;00m\n\u001b[1;32m   1497\u001b[0m \u001b[39m# this function, and just call forward.\u001b[39;00m\n\u001b[1;32m   1498\u001b[0m \u001b[39mif\u001b[39;00m \u001b[39mnot\u001b[39;00m (\u001b[39mself\u001b[39m\u001b[39m.\u001b[39m_backward_hooks \u001b[39mor\u001b[39;00m \u001b[39mself\u001b[39m\u001b[39m.\u001b[39m_backward_pre_hooks \u001b[39mor\u001b[39;00m \u001b[39mself\u001b[39m\u001b[39m.\u001b[39m_forward_hooks \u001b[39mor\u001b[39;00m \u001b[39mself\u001b[39m\u001b[39m.\u001b[39m_forward_pre_hooks\n\u001b[1;32m   1499\u001b[0m         \u001b[39mor\u001b[39;00m _global_backward_pre_hooks \u001b[39mor\u001b[39;00m _global_backward_hooks\n\u001b[1;32m   1500\u001b[0m         \u001b[39mor\u001b[39;00m _global_forward_hooks \u001b[39mor\u001b[39;00m _global_forward_pre_hooks):\n\u001b[0;32m-> 1501\u001b[0m     \u001b[39mreturn\u001b[39;00m forward_call(\u001b[39m*\u001b[39;49margs, \u001b[39m*\u001b[39;49m\u001b[39m*\u001b[39;49mkwargs)\n\u001b[1;32m   1502\u001b[0m \u001b[39m# Do not call functions when jit is used\u001b[39;00m\n\u001b[1;32m   1503\u001b[0m full_backward_hooks, non_full_backward_hooks \u001b[39m=\u001b[39m [], []\n",
      "Cell \u001b[0;32mIn[101], line 15\u001b[0m, in \u001b[0;36mLRUnit1D_test.forward\u001b[0;34m(self, x)\u001b[0m\n\u001b[1;32m     13\u001b[0m x \u001b[39m=\u001b[39m \u001b[39mself\u001b[39m\u001b[39m.\u001b[39mlayer0(x)\n\u001b[1;32m     14\u001b[0m \u001b[39mprint\u001b[39m(x\u001b[39m.\u001b[39mshape)\n\u001b[0;32m---> 15\u001b[0m x \u001b[39m=\u001b[39m \u001b[39mself\u001b[39;49m\u001b[39m.\u001b[39;49mbn0(x)\n\u001b[1;32m     16\u001b[0m \u001b[39mreturn\u001b[39;00m x\n",
      "File \u001b[0;32m~/.local/share/virtualenvs/asl2-dTG6GXgB/lib/python3.11/site-packages/torch/nn/modules/module.py:1501\u001b[0m, in \u001b[0;36mModule._call_impl\u001b[0;34m(self, *args, **kwargs)\u001b[0m\n\u001b[1;32m   1496\u001b[0m \u001b[39m# If we don't have any hooks, we want to skip the rest of the logic in\u001b[39;00m\n\u001b[1;32m   1497\u001b[0m \u001b[39m# this function, and just call forward.\u001b[39;00m\n\u001b[1;32m   1498\u001b[0m \u001b[39mif\u001b[39;00m \u001b[39mnot\u001b[39;00m (\u001b[39mself\u001b[39m\u001b[39m.\u001b[39m_backward_hooks \u001b[39mor\u001b[39;00m \u001b[39mself\u001b[39m\u001b[39m.\u001b[39m_backward_pre_hooks \u001b[39mor\u001b[39;00m \u001b[39mself\u001b[39m\u001b[39m.\u001b[39m_forward_hooks \u001b[39mor\u001b[39;00m \u001b[39mself\u001b[39m\u001b[39m.\u001b[39m_forward_pre_hooks\n\u001b[1;32m   1499\u001b[0m         \u001b[39mor\u001b[39;00m _global_backward_pre_hooks \u001b[39mor\u001b[39;00m _global_backward_hooks\n\u001b[1;32m   1500\u001b[0m         \u001b[39mor\u001b[39;00m _global_forward_hooks \u001b[39mor\u001b[39;00m _global_forward_pre_hooks):\n\u001b[0;32m-> 1501\u001b[0m     \u001b[39mreturn\u001b[39;00m forward_call(\u001b[39m*\u001b[39;49margs, \u001b[39m*\u001b[39;49m\u001b[39m*\u001b[39;49mkwargs)\n\u001b[1;32m   1502\u001b[0m \u001b[39m# Do not call functions when jit is used\u001b[39;00m\n\u001b[1;32m   1503\u001b[0m full_backward_hooks, non_full_backward_hooks \u001b[39m=\u001b[39m [], []\n",
      "File \u001b[0;32m~/.local/share/virtualenvs/asl2-dTG6GXgB/lib/python3.11/site-packages/torch/nn/modules/batchnorm.py:171\u001b[0m, in \u001b[0;36m_BatchNorm.forward\u001b[0;34m(self, input)\u001b[0m\n\u001b[1;32m    164\u001b[0m     bn_training \u001b[39m=\u001b[39m (\u001b[39mself\u001b[39m\u001b[39m.\u001b[39mrunning_mean \u001b[39mis\u001b[39;00m \u001b[39mNone\u001b[39;00m) \u001b[39mand\u001b[39;00m (\u001b[39mself\u001b[39m\u001b[39m.\u001b[39mrunning_var \u001b[39mis\u001b[39;00m \u001b[39mNone\u001b[39;00m)\n\u001b[1;32m    166\u001b[0m \u001b[39m\u001b[39m\u001b[39mr\u001b[39m\u001b[39m\"\"\"\u001b[39;00m\n\u001b[1;32m    167\u001b[0m \u001b[39mBuffers are only updated if they are to be tracked and we are in training mode. Thus they only need to be\u001b[39;00m\n\u001b[1;32m    168\u001b[0m \u001b[39mpassed when the update should occur (i.e. in training mode when they are tracked), or when buffer stats are\u001b[39;00m\n\u001b[1;32m    169\u001b[0m \u001b[39mused for normalization (i.e. in eval mode when buffers are not None).\u001b[39;00m\n\u001b[1;32m    170\u001b[0m \u001b[39m\"\"\"\u001b[39;00m\n\u001b[0;32m--> 171\u001b[0m \u001b[39mreturn\u001b[39;00m F\u001b[39m.\u001b[39;49mbatch_norm(\n\u001b[1;32m    172\u001b[0m     \u001b[39minput\u001b[39;49m,\n\u001b[1;32m    173\u001b[0m     \u001b[39m# If buffers are not to be tracked, ensure that they won't be updated\u001b[39;49;00m\n\u001b[1;32m    174\u001b[0m     \u001b[39mself\u001b[39;49m\u001b[39m.\u001b[39;49mrunning_mean\n\u001b[1;32m    175\u001b[0m     \u001b[39mif\u001b[39;49;00m \u001b[39mnot\u001b[39;49;00m \u001b[39mself\u001b[39;49m\u001b[39m.\u001b[39;49mtraining \u001b[39mor\u001b[39;49;00m \u001b[39mself\u001b[39;49m\u001b[39m.\u001b[39;49mtrack_running_stats\n\u001b[1;32m    176\u001b[0m     \u001b[39melse\u001b[39;49;00m \u001b[39mNone\u001b[39;49;00m,\n\u001b[1;32m    177\u001b[0m     \u001b[39mself\u001b[39;49m\u001b[39m.\u001b[39;49mrunning_var \u001b[39mif\u001b[39;49;00m \u001b[39mnot\u001b[39;49;00m \u001b[39mself\u001b[39;49m\u001b[39m.\u001b[39;49mtraining \u001b[39mor\u001b[39;49;00m \u001b[39mself\u001b[39;49m\u001b[39m.\u001b[39;49mtrack_running_stats \u001b[39melse\u001b[39;49;00m \u001b[39mNone\u001b[39;49;00m,\n\u001b[1;32m    178\u001b[0m     \u001b[39mself\u001b[39;49m\u001b[39m.\u001b[39;49mweight,\n\u001b[1;32m    179\u001b[0m     \u001b[39mself\u001b[39;49m\u001b[39m.\u001b[39;49mbias,\n\u001b[1;32m    180\u001b[0m     bn_training,\n\u001b[1;32m    181\u001b[0m     exponential_average_factor,\n\u001b[1;32m    182\u001b[0m     \u001b[39mself\u001b[39;49m\u001b[39m.\u001b[39;49meps,\n\u001b[1;32m    183\u001b[0m )\n",
      "File \u001b[0;32m~/.local/share/virtualenvs/asl2-dTG6GXgB/lib/python3.11/site-packages/torch/nn/functional.py:2450\u001b[0m, in \u001b[0;36mbatch_norm\u001b[0;34m(input, running_mean, running_var, weight, bias, training, momentum, eps)\u001b[0m\n\u001b[1;32m   2447\u001b[0m \u001b[39mif\u001b[39;00m training:\n\u001b[1;32m   2448\u001b[0m     _verify_batch_size(\u001b[39minput\u001b[39m\u001b[39m.\u001b[39msize())\n\u001b[0;32m-> 2450\u001b[0m \u001b[39mreturn\u001b[39;00m torch\u001b[39m.\u001b[39;49mbatch_norm(\n\u001b[1;32m   2451\u001b[0m     \u001b[39minput\u001b[39;49m, weight, bias, running_mean, running_var, training, momentum, eps, torch\u001b[39m.\u001b[39;49mbackends\u001b[39m.\u001b[39;49mcudnn\u001b[39m.\u001b[39;49menabled\n\u001b[1;32m   2452\u001b[0m )\n",
      "\u001b[0;31mRuntimeError\u001b[0m: running_mean should contain 574 elements not 128"
     ]
    }
   ],
   "source": [
    "class LRUnit1D_test(nn.Module):\n",
    "    def __init__(self, in_dim, actf=torch.nn.ReLU()):\n",
    "        super(LRUnit1D_test, self).__init__()\n",
    "        self.layer0 = nn.Linear(in_dim, in_dim, bias=False)\n",
    "        self.bn0 = nn.BatchNorm1d(in_dim)\n",
    "        self.layer1 = nn.Linear(in_dim, in_dim, bias=False)\n",
    "        self.bn1 = nn.BatchNorm1d(in_dim)\n",
    "        self.actf = actf\n",
    "\n",
    "    def forward(self, x):\n",
    "        # h = self.actf(self.bn0(self.layer0(x)))\n",
    "        # h = self.bn1(self.layer1(h))\n",
    "        x = self.layer0(x)\n",
    "        print(x.shape)\n",
    "        x = self.bn0(x)\n",
    "        return x\n",
    "\n",
    "x = torch.rand(1, 574, 128)\n",
    "fc = LRUnit1D_test(128)\n",
    "output = fc(x)"
   ]
  },
  {
   "cell_type": "code",
   "execution_count": 102,
   "metadata": {},
   "outputs": [
    {
     "ename": "AttributeError",
     "evalue": "'LRUnit1D_test' object has no attribute 'weight'",
     "output_type": "error",
     "traceback": [
      "\u001b[0;31m---------------------------------------------------------------------------\u001b[0m",
      "\u001b[0;31mAttributeError\u001b[0m                            Traceback (most recent call last)",
      "Cell \u001b[0;32mIn[102], line 1\u001b[0m\n\u001b[0;32m----> 1\u001b[0m fc\u001b[39m.\u001b[39;49mweight\u001b[39m.\u001b[39mshape\n",
      "File \u001b[0;32m~/.local/share/virtualenvs/asl2-dTG6GXgB/lib/python3.11/site-packages/torch/nn/modules/module.py:1614\u001b[0m, in \u001b[0;36mModule.__getattr__\u001b[0;34m(self, name)\u001b[0m\n\u001b[1;32m   1612\u001b[0m     \u001b[39mif\u001b[39;00m name \u001b[39min\u001b[39;00m modules:\n\u001b[1;32m   1613\u001b[0m         \u001b[39mreturn\u001b[39;00m modules[name]\n\u001b[0;32m-> 1614\u001b[0m \u001b[39mraise\u001b[39;00m \u001b[39mAttributeError\u001b[39;00m(\u001b[39m\"\u001b[39m\u001b[39m'\u001b[39m\u001b[39m{}\u001b[39;00m\u001b[39m'\u001b[39m\u001b[39m object has no attribute \u001b[39m\u001b[39m'\u001b[39m\u001b[39m{}\u001b[39;00m\u001b[39m'\u001b[39m\u001b[39m\"\u001b[39m\u001b[39m.\u001b[39mformat(\n\u001b[1;32m   1615\u001b[0m     \u001b[39mtype\u001b[39m(\u001b[39mself\u001b[39m)\u001b[39m.\u001b[39m\u001b[39m__name__\u001b[39m, name))\n",
      "\u001b[0;31mAttributeError\u001b[0m: 'LRUnit1D_test' object has no attribute 'weight'"
     ]
    }
   ],
   "source": [
    "fc.weight.shape"
   ]
  },
  {
   "cell_type": "code",
   "execution_count": 119,
   "metadata": {},
   "outputs": [],
   "source": [
    "import numpy as np\n"
   ]
  },
  {
   "cell_type": "code",
   "execution_count": 129,
   "metadata": {},
   "outputs": [],
   "source": [
    "data = np.random.rand(12, 42, 2)"
   ]
  },
  {
   "cell_type": "code",
   "execution_count": null,
   "metadata": {},
   "outputs": [],
   "source": []
  },
  {
   "cell_type": "code",
   "execution_count": 134,
   "metadata": {},
   "outputs": [
    {
     "data": {
      "text/plain": [
       "(12, 42, 2)"
      ]
     },
     "execution_count": 134,
     "metadata": {},
     "output_type": "execute_result"
    }
   ],
   "source": [
    "(data - data[:, 0][:, None]).shape"
   ]
  },
  {
   "cell_type": "code",
   "execution_count": 137,
   "metadata": {},
   "outputs": [
    {
     "data": {
      "text/plain": [
       "(12, 1, 2)"
      ]
     },
     "execution_count": 137,
     "metadata": {},
     "output_type": "execute_result"
    }
   ],
   "source": [
    "data[:, 0][:, None].shape"
   ]
  },
  {
   "cell_type": "code",
   "execution_count": 141,
   "metadata": {},
   "outputs": [],
   "source": [
    "import numpy as np"
   ]
  },
  {
   "cell_type": "code",
   "execution_count": 154,
   "metadata": {},
   "outputs": [
    {
     "name": "stdout",
     "output_type": "stream",
     "text": [
      "9.9e-08\n",
      "1e-07\n"
     ]
    }
   ],
   "source": [
    "v = 0.0000001 - 0.000000001\n",
    "print(np.array(v).astype(np.float32))\n",
    "print(np.array(v).astype(np.float16))"
   ]
  },
  {
   "cell_type": "code",
   "execution_count": 43,
   "metadata": {},
   "outputs": [],
   "source": [
    "NEG_INFTY = -1e9\n",
    "MAX_SEQUENCE_LENGTH = 512\n",
    "\n",
    "def create_masks(frame, phrase):\n",
    "    look_ahead_mask = torch.full([MAX_SEQUENCE_LENGTH, MAX_SEQUENCE_LENGTH] , True) # Creates a tensor with all values = True\n",
    "    #print(look_ahead_mask)\n",
    "    look_ahead_mask = torch.triu(look_ahead_mask, diagonal=1) # Upper traingle = True only\n",
    "    #print(look_ahead_mask)\n",
    "    encoder_padding_mask = torch.full([MAX_SEQUENCE_LENGTH, MAX_SEQUENCE_LENGTH] , False)\n",
    "    decoder_padding_mask_self_attention = torch.full([MAX_SEQUENCE_LENGTH, MAX_SEQUENCE_LENGTH] , False)\n",
    "    decoder_padding_mask_cross_attention = torch.full([MAX_SEQUENCE_LENGTH, MAX_SEQUENCE_LENGTH] , False)\n",
    "    #print(encoder_padding_mask)\n",
    "\n",
    "    frame_length, eng_sentence_length = len(frame), len(phrase)\n",
    "    frame_chars_to_padding_mask = np.arange(frame_length + 1, MAX_SEQUENCE_LENGTH)\n",
    "    eng_chars_to_padding_mask = np.arange(eng_sentence_length + 1, MAX_SEQUENCE_LENGTH)\n",
    "    encoder_padding_mask[:, frame_chars_to_padding_mask] = True\n",
    "    encoder_padding_mask[frame_chars_to_padding_mask, :] = True\n",
    "    decoder_padding_mask_self_attention[:, eng_chars_to_padding_mask] = True\n",
    "    decoder_padding_mask_self_attention[eng_chars_to_padding_mask, :] = True\n",
    "    decoder_padding_mask_cross_attention[:, eng_chars_to_padding_mask] = True\n",
    "    decoder_padding_mask_cross_attention[eng_chars_to_padding_mask, :] = True\n",
    "\n",
    "    encoder_self_attention_mask = torch.where(encoder_padding_mask, NEG_INFTY, 0)\n",
    "    decoder_self_attention_mask =  torch.where(look_ahead_mask + decoder_padding_mask_self_attention, NEG_INFTY, 0)\n",
    "    decoder_cross_attention_mask = torch.where(decoder_padding_mask_cross_attention, NEG_INFTY, 0)\n",
    "    return encoder_self_attention_mask, decoder_self_attention_mask, decoder_cross_attention_mask"
   ]
  },
  {
   "cell_type": "code",
   "execution_count": 62,
   "metadata": {},
   "outputs": [],
   "source": [
    "frame = torch.randn(480, 42)\n",
    "phrase = torch.randn(200)"
   ]
  },
  {
   "cell_type": "code",
   "execution_count": 63,
   "metadata": {},
   "outputs": [],
   "source": [
    "def draw_heatmap(data):\n",
    "    # 描画する\n",
    "    fig, ax = plt.subplots()\n",
    "    heatmap = ax.pcolor(data, cmap=plt.cm.Blues)\n",
    "\n",
    "    # ax.set_xticks(np.arange(data.shape[0]) + 0.5, minor=False)\n",
    "    # ax.set_yticks(np.arange(data.shape[1]) + 0.5, minor=False)\n",
    "\n",
    "    ax.invert_yaxis()\n",
    "    ax.xaxis.tick_top()\n",
    "\n",
    "    # ax.set_xticklabels(row_labels, minor=False)\n",
    "    # ax.set_yticklabels(column_labels, minor=False)\n",
    "    plt.show()\n",
    "    plt.savefig('image.png')\n",
    "\n",
    "    return heatmap"
   ]
  },
  {
   "cell_type": "code",
   "execution_count": 74,
   "metadata": {},
   "outputs": [
    {
     "data": {
      "image/png": "[encoded data removed]",
      "text/plain": [
       "<Figure size 640x480 with 1 Axes>"
      ]
     },
     "metadata": {},
     "output_type": "display_data"
    },
    {
     "data": {
      "text/plain": [
       "<matplotlib.collections.PolyCollection at 0x2a7328350>"
      ]
     },
     "execution_count": 74,
     "metadata": {},
     "output_type": "execute_result"
    },
    {
     "data": {
      "text/plain": [
       "<Figure size 640x480 with 0 Axes>"
      ]
     },
     "metadata": {},
     "output_type": "display_data"
    }
   ],
   "source": [
    "draw_heatmap(create_masks(frame, phrase)[1])"
   ]
  },
  {
   "cell_type": "code",
   "execution_count": 71,
   "metadata": {},
   "outputs": [
    {
     "data": {
      "text/plain": [
       "tensor(-1.0000e+09)"
      ]
     },
     "execution_count": 71,
     "metadata": {},
     "output_type": "execute_result"
    }
   ],
   "source": [
    "create_masks(frame, phrase)[1][500, 500]"
   ]
  },
  {
   "cell_type": "code",
   "execution_count": null,
   "metadata": {},
   "outputs": [],
   "source": []
  }
 ],
 "metadata": {
  "kernelspec": {
   "display_name": "asl2-dTG6GXgB",
   "language": "python",
   "name": "python3"
  },
  "language_info": {
   "codemirror_mode": {
    "name": "ipython",
    "version": 3
   },
   "file_extension": ".py",
   "mimetype": "text/x-python",
   "name": "python",
   "nbconvert_exporter": "python",
   "pygments_lexer": "ipython3",
   "version": "3.11.4"
  },
  "orig_nbformat": 4
 },
 "nbformat": 4,
 "nbformat_minor": 2
}
